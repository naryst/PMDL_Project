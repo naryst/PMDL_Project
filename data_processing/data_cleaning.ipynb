{
 "cells": [
  {
   "cell_type": "code",
   "execution_count": 1,
   "metadata": {
    "ExecuteTime": {
     "end_time": "2023-08-04T01:38:02.141494029Z",
     "start_time": "2023-08-04T01:38:02.136072465Z"
    }
   },
   "outputs": [],
   "source": [
    "import pandas as pd\n",
    "import numpy as np\n",
    "import matplotlib.pyplot as plt\n",
    "import seaborn as sns\n",
    "import re"
   ]
  },
  {
   "cell_type": "code",
   "execution_count": 2,
   "metadata": {
    "ExecuteTime": {
     "end_time": "2023-08-04T01:36:29.283066834Z",
     "start_time": "2023-08-04T01:36:08.381623722Z"
    },
    "collapsed": false,
    "jupyter": {
     "outputs_hidden": false
    }
   },
   "outputs": [],
   "source": [
    "data = pd.read_pickle('../data/raw/commits_new_v3.pickle')"
   ]
  },
  {
   "cell_type": "code",
   "execution_count": 3,
   "metadata": {
    "ExecuteTime": {
     "end_time": "2023-08-04T01:36:29.310497968Z",
     "start_time": "2023-08-04T01:36:29.292591886Z"
    },
    "collapsed": false,
    "jupyter": {
     "outputs_hidden": false
    }
   },
   "outputs": [
    {
     "data": {
      "text/html": [
       "<div>\n",
       "<style scoped>\n",
       "    .dataframe tbody tr th:only-of-type {\n",
       "        vertical-align: middle;\n",
       "    }\n",
       "\n",
       "    .dataframe tbody tr th {\n",
       "        vertical-align: top;\n",
       "    }\n",
       "\n",
       "    .dataframe thead th {\n",
       "        text-align: right;\n",
       "    }\n",
       "</style>\n",
       "<table border=\"1\" class=\"dataframe\">\n",
       "  <thead>\n",
       "    <tr style=\"text-align: right;\">\n",
       "      <th></th>\n",
       "      <th>repo_name</th>\n",
       "      <th>commit_message</th>\n",
       "      <th>files_changed</th>\n",
       "      <th>commit_changes</th>\n",
       "      <th>hash</th>\n",
       "    </tr>\n",
       "  </thead>\n",
       "  <tbody>\n",
       "    <tr>\n",
       "      <th>0</th>\n",
       "      <td>pandora</td>\n",
       "      <td>展示模型名追加tags (#951)\\n\\n原来格式化的结果可能存在同名model的情况，让...</td>\n",
       "      <td>src/pandora/bots/legacy.py</td>\n",
       "      <td>a/src/pandora/bots/legacy.py b/src/pandora/bo...</td>\n",
       "      <td>8f2d776f6a72c9d5973a24ecbea4b5ace8c7338d</td>\n",
       "    </tr>\n",
       "    <tr>\n",
       "      <th>1</th>\n",
       "      <td>pandora</td>\n",
       "      <td>Add the missing Docker env: PANDORA_THREADS\\n\\...</td>\n",
       "      <td>bin/startup.sh</td>\n",
       "      <td>a/bin/startup.sh b/bin/startup.sh\\nindex c6eb...</td>\n",
       "      <td>f33d09288498be4921e244d674845170967053b9</td>\n",
       "    </tr>\n",
       "    <tr>\n",
       "      <th>2</th>\n",
       "      <td>pandora</td>\n",
       "      <td>Add the missing Docker env: PANDORA_THREADS\\n\\...</td>\n",
       "      <td>doc/wiki.md</td>\n",
       "      <td>a/doc/wiki.md b/doc/wiki.md\\nindex 20330da..6...</td>\n",
       "      <td>f33d09288498be4921e244d674845170967053b9</td>\n",
       "    </tr>\n",
       "    <tr>\n",
       "      <th>3</th>\n",
       "      <td>pandora</td>\n",
       "      <td>Add the missing Docker env: PANDORA_THREADS\\n\\...</td>\n",
       "      <td>doc/wiki_en.md</td>\n",
       "      <td>a/doc/wiki_en.md b/doc/wiki_en.md\\nindex 2f93...</td>\n",
       "      <td>f33d09288498be4921e244d674845170967053b9</td>\n",
       "    </tr>\n",
       "    <tr>\n",
       "      <th>4</th>\n",
       "      <td>pandora</td>\n",
       "      <td>Add the missing Docker env: PANDORA_THREADS\\n\\...</td>\n",
       "      <td>src/pandora/__init__.py</td>\n",
       "      <td>a/src/pandora/__init__.py b/src/pandora/__ini...</td>\n",
       "      <td>f33d09288498be4921e244d674845170967053b9</td>\n",
       "    </tr>\n",
       "  </tbody>\n",
       "</table>\n",
       "</div>"
      ],
      "text/plain": [
       "  repo_name                                     commit_message  \\\n",
       "0   pandora  展示模型名追加tags (#951)\\n\\n原来格式化的结果可能存在同名model的情况，让...   \n",
       "1   pandora  Add the missing Docker env: PANDORA_THREADS\\n\\...   \n",
       "2   pandora  Add the missing Docker env: PANDORA_THREADS\\n\\...   \n",
       "3   pandora  Add the missing Docker env: PANDORA_THREADS\\n\\...   \n",
       "4   pandora  Add the missing Docker env: PANDORA_THREADS\\n\\...   \n",
       "\n",
       "                files_changed  \\\n",
       "0  src/pandora/bots/legacy.py   \n",
       "1              bin/startup.sh   \n",
       "2                 doc/wiki.md   \n",
       "3              doc/wiki_en.md   \n",
       "4     src/pandora/__init__.py   \n",
       "\n",
       "                                      commit_changes  \\\n",
       "0   a/src/pandora/bots/legacy.py b/src/pandora/bo...   \n",
       "1   a/bin/startup.sh b/bin/startup.sh\\nindex c6eb...   \n",
       "2   a/doc/wiki.md b/doc/wiki.md\\nindex 20330da..6...   \n",
       "3   a/doc/wiki_en.md b/doc/wiki_en.md\\nindex 2f93...   \n",
       "4   a/src/pandora/__init__.py b/src/pandora/__ini...   \n",
       "\n",
       "                                       hash  \n",
       "0  8f2d776f6a72c9d5973a24ecbea4b5ace8c7338d  \n",
       "1  f33d09288498be4921e244d674845170967053b9  \n",
       "2  f33d09288498be4921e244d674845170967053b9  \n",
       "3  f33d09288498be4921e244d674845170967053b9  \n",
       "4  f33d09288498be4921e244d674845170967053b9  "
      ]
     },
     "execution_count": 3,
     "metadata": {},
     "output_type": "execute_result"
    }
   ],
   "source": [
    "data.head()"
   ]
  },
  {
   "cell_type": "code",
   "execution_count": 4,
   "metadata": {
    "ExecuteTime": {
     "end_time": "2023-08-04T01:36:43.665901685Z",
     "start_time": "2023-08-04T01:36:43.621223502Z"
    }
   },
   "outputs": [
    {
     "name": "stdout",
     "output_type": "stream",
     "text": [
      " a/README.md b/README.md\n",
      "index 6936c59..0730988 100644\n",
      "--- a/README.md\n",
      "+++ b/README.md\n",
      "@@ -45,7 +45,7 @@\n",
      " ### &nbsp;&nbsp;&nbsp;吃着火锅唱着歌，突然就出故障了。痛！\n",
      " ![t4](https://github.com/pengzhile/pandora/raw/master/doc/images/t4.png)\n",
      " \n",
      "-### 6. 手机和电脑的模型不同用，顾这个就顾不到那个，痛！\n",
      "+### 6. 手机和电脑的模型不通用，顾这个就顾不到那个，痛！\n",
      " ![t7](https://github.com/pengzhile/pandora/raw/master/doc/images/t7.png)\n",
      " \n",
      " ### 7. 蹦字慢吞吞，卡顿不流畅，不知道的甚至想换电脑。痛！\n"
     ]
    }
   ],
   "source": [
    "print(data[\"commit_changes\"][41])"
   ]
  },
  {
   "cell_type": "code",
   "execution_count": 5,
   "metadata": {
    "ExecuteTime": {
     "end_time": "2023-08-04T01:36:45.985535439Z",
     "start_time": "2023-08-04T01:36:45.969419979Z"
    },
    "collapsed": false,
    "jupyter": {
     "outputs_hidden": false
    }
   },
   "outputs": [
    {
     "data": {
      "text/plain": [
       "(1174385, 5)"
      ]
     },
     "execution_count": 5,
     "metadata": {},
     "output_type": "execute_result"
    }
   ],
   "source": [
    "data.shape  # 2152264 before"
   ]
  },
  {
   "cell_type": "code",
   "execution_count": 6,
   "metadata": {
    "ExecuteTime": {
     "end_time": "2023-08-04T01:36:47.757975214Z",
     "start_time": "2023-08-04T01:36:46.670758960Z"
    },
    "collapsed": false,
    "jupyter": {
     "outputs_hidden": false
    }
   },
   "outputs": [],
   "source": [
    "changes_lengths = []\n",
    "for change in data['commit_changes']:\n",
    "    changes_lengths.append(len(change))"
   ]
  },
  {
   "cell_type": "code",
   "execution_count": 7,
   "metadata": {
    "ExecuteTime": {
     "end_time": "2023-08-04T01:36:52.424074408Z",
     "start_time": "2023-08-04T01:36:52.323818491Z"
    },
    "collapsed": false,
    "jupyter": {
     "outputs_hidden": false
    }
   },
   "outputs": [],
   "source": [
    "max_len = max(changes_lengths)"
   ]
  },
  {
   "cell_type": "code",
   "execution_count": 8,
   "metadata": {
    "ExecuteTime": {
     "end_time": "2023-08-04T01:36:53.448874930Z",
     "start_time": "2023-08-04T01:36:53.276295Z"
    },
    "collapsed": false,
    "jupyter": {
     "outputs_hidden": false
    }
   },
   "outputs": [],
   "source": [
    "changes_lengths = np.array(changes_lengths)"
   ]
  },
  {
   "cell_type": "code",
   "execution_count": 9,
   "metadata": {
    "ExecuteTime": {
     "end_time": "2023-08-04T01:36:54.154345655Z",
     "start_time": "2023-08-04T01:36:54.068692874Z"
    },
    "collapsed": false,
    "jupyter": {
     "outputs_hidden": false
    }
   },
   "outputs": [],
   "source": [
    "counts, bins = np.histogram(changes_lengths, bins=100)"
   ]
  },
  {
   "cell_type": "code",
   "execution_count": 10,
   "metadata": {
    "ExecuteTime": {
     "end_time": "2023-08-04T01:36:55.052035755Z",
     "start_time": "2023-08-04T01:36:54.973356311Z"
    },
    "collapsed": false,
    "jupyter": {
     "outputs_hidden": false
    }
   },
   "outputs": [
    {
     "data": {
      "text/plain": [
       "6194.0"
      ]
     },
     "execution_count": 10,
     "metadata": {},
     "output_type": "execute_result"
    }
   ],
   "source": [
    "percentile = np.percentile(changes_lengths, 85)\n",
    "changes_lengths_percentile = changes_lengths[changes_lengths < percentile]\n",
    "percentile"
   ]
  },
  {
   "cell_type": "code",
   "execution_count": 11,
   "metadata": {
    "ExecuteTime": {
     "end_time": "2023-08-04T01:36:55.901009062Z",
     "start_time": "2023-08-04T01:36:55.887962419Z"
    },
    "collapsed": false,
    "jupyter": {
     "outputs_hidden": false
    }
   },
   "outputs": [
    {
     "data": {
      "text/plain": [
       "(998222,)"
      ]
     },
     "execution_count": 11,
     "metadata": {},
     "output_type": "execute_result"
    }
   ],
   "source": [
    "changes_lengths_percentile.shape"
   ]
  },
  {
   "cell_type": "code",
   "execution_count": 12,
   "metadata": {
    "ExecuteTime": {
     "end_time": "2023-08-04T01:36:57.243395063Z",
     "start_time": "2023-08-04T01:36:56.695850218Z"
    },
    "collapsed": false,
    "jupyter": {
     "outputs_hidden": false
    }
   },
   "outputs": [
    {
     "data": {
      "image/png": "[encoded data removed]",
      "text/plain": [
       "<Figure size 700x700 with 1 Axes>"
      ]
     },
     "metadata": {},
     "output_type": "display_data"
    }
   ],
   "source": [
    "# length of commit changes\n",
    "plt.figure(figsize=(7, 7))\n",
    "plt.hist(changes_lengths_percentile, bins=100)\n",
    "plt.show()"
   ]
  },
  {
   "cell_type": "code",
   "execution_count": 13,
   "metadata": {
    "ExecuteTime": {
     "end_time": "2023-08-04T01:36:58.231960340Z",
     "start_time": "2023-08-04T01:36:58.200942911Z"
    },
    "collapsed": false,
    "jupyter": {
     "outputs_hidden": false
    }
   },
   "outputs": [
    {
     "name": "stdout",
     "output_type": "stream",
     "text": [
      "Gave more power to the TelegramClients and bug fixes\n",
      "\n",
      "Fixed uploads for large files on TcpClient\n",
      "Added more RPCError's for handling invalid phone code\n",
      "Added more media handlers: now you're also able to\n",
      "  both send and download documents!\n",
      "The InteractiveTelegramClient now supports working\n",
      "  with media aswell\n",
      "\n"
     ]
    }
   ],
   "source": [
    "random_num = np.random.randint(0, data.shape[0])\n",
    "random_msg = data.iloc[random_num]['commit_message']\n",
    "print(random_msg)"
   ]
  },
  {
   "cell_type": "code",
   "execution_count": 14,
   "metadata": {
    "ExecuteTime": {
     "end_time": "2023-08-04T01:37:06.869271600Z",
     "start_time": "2023-08-04T01:36:58.843425176Z"
    },
    "collapsed": false,
    "jupyter": {
     "outputs_hidden": false
    }
   },
   "outputs": [],
   "source": [
    "# regexp to detect non-ascii characters\n",
    "non_ascii = re.compile(r'[^\\x00-\\x7F]+')\n",
    "\n",
    "non_ascii_commits = data[data['commit_message'].str.contains(non_ascii)]"
   ]
  },
  {
   "cell_type": "code",
   "execution_count": 15,
   "metadata": {
    "ExecuteTime": {
     "end_time": "2023-08-04T01:37:07.687367042Z",
     "start_time": "2023-08-04T01:37:07.643648102Z"
    },
    "collapsed": false,
    "jupyter": {
     "outputs_hidden": false
    }
   },
   "outputs": [
    {
     "data": {
      "text/plain": [
       "(36971, 5)"
      ]
     },
     "execution_count": 15,
     "metadata": {},
     "output_type": "execute_result"
    }
   ],
   "source": [
    "non_ascii_commits.shape"
   ]
  },
  {
   "cell_type": "code",
   "execution_count": 16,
   "metadata": {
    "ExecuteTime": {
     "end_time": "2023-08-04T01:37:09.015542156Z",
     "start_time": "2023-08-04T01:37:08.270370013Z"
    },
    "collapsed": false,
    "jupyter": {
     "outputs_hidden": false
    }
   },
   "outputs": [],
   "source": [
    "number_of_commits = data.groupby('repo_name').count().sort_values(by='commit_message', ascending=False)[\n",
    "    'commit_message']"
   ]
  },
  {
   "cell_type": "code",
   "execution_count": 17,
   "metadata": {
    "ExecuteTime": {
     "end_time": "2023-08-04T01:37:10.800513358Z",
     "start_time": "2023-08-04T01:37:10.517196742Z"
    },
    "collapsed": false,
    "jupyter": {
     "outputs_hidden": false
    }
   },
   "outputs": [
    {
     "data": {
      "image/png": "[encoded data removed]",
      "text/plain": [
       "<Figure size 640x480 with 1 Axes>"
      ]
     },
     "metadata": {},
     "output_type": "display_data"
    }
   ],
   "source": [
    "# number of files changed in all commits\n",
    "sns.histplot(number_of_commits, bins=100)\n",
    "plt.show()"
   ]
  },
  {
   "cell_type": "code",
   "execution_count": 19,
   "metadata": {
    "ExecuteTime": {
     "end_time": "2023-08-04T01:37:11.972133199Z",
     "start_time": "2023-08-04T01:37:11.860051855Z"
    },
    "collapsed": false,
    "jupyter": {
     "outputs_hidden": false
    }
   },
   "outputs": [
    {
     "data": {
      "text/html": [
       "<div>\n",
       "<style scoped>\n",
       "    .dataframe tbody tr th:only-of-type {\n",
       "        vertical-align: middle;\n",
       "    }\n",
       "\n",
       "    .dataframe tbody tr th {\n",
       "        vertical-align: top;\n",
       "    }\n",
       "\n",
       "    .dataframe thead th {\n",
       "        text-align: right;\n",
       "    }\n",
       "</style>\n",
       "<table border=\"1\" class=\"dataframe\">\n",
       "  <thead>\n",
       "    <tr style=\"text-align: right;\">\n",
       "      <th></th>\n",
       "      <th>repo_name</th>\n",
       "      <th>commit_message</th>\n",
       "      <th>files_changed</th>\n",
       "      <th>commit_changes</th>\n",
       "      <th>hash</th>\n",
       "    </tr>\n",
       "  </thead>\n",
       "  <tbody>\n",
       "    <tr>\n",
       "      <th>0</th>\n",
       "      <td>pandora</td>\n",
       "      <td>展示模型名追加tags (#951)\\n\\n原来格式化的结果可能存在同名model的情况，让...</td>\n",
       "      <td>src/pandora/bots/legacy.py</td>\n",
       "      <td>a/src/pandora/bots/legacy.py b/src/pandora/bo...</td>\n",
       "      <td>8f2d776f6a72c9d5973a24ecbea4b5ace8c7338d</td>\n",
       "    </tr>\n",
       "    <tr>\n",
       "      <th>1</th>\n",
       "      <td>pandora</td>\n",
       "      <td>Add the missing Docker env: PANDORA_THREADS\\n\\...</td>\n",
       "      <td>bin/startup.sh</td>\n",
       "      <td>a/bin/startup.sh b/bin/startup.sh\\nindex c6eb...</td>\n",
       "      <td>f33d09288498be4921e244d674845170967053b9</td>\n",
       "    </tr>\n",
       "    <tr>\n",
       "      <th>2</th>\n",
       "      <td>pandora</td>\n",
       "      <td>Add the missing Docker env: PANDORA_THREADS\\n\\...</td>\n",
       "      <td>doc/wiki.md</td>\n",
       "      <td>a/doc/wiki.md b/doc/wiki.md\\nindex 20330da..6...</td>\n",
       "      <td>f33d09288498be4921e244d674845170967053b9</td>\n",
       "    </tr>\n",
       "    <tr>\n",
       "      <th>3</th>\n",
       "      <td>pandora</td>\n",
       "      <td>Add the missing Docker env: PANDORA_THREADS\\n\\...</td>\n",
       "      <td>doc/wiki_en.md</td>\n",
       "      <td>a/doc/wiki_en.md b/doc/wiki_en.md\\nindex 2f93...</td>\n",
       "      <td>f33d09288498be4921e244d674845170967053b9</td>\n",
       "    </tr>\n",
       "    <tr>\n",
       "      <th>4</th>\n",
       "      <td>pandora</td>\n",
       "      <td>Add the missing Docker env: PANDORA_THREADS\\n\\...</td>\n",
       "      <td>src/pandora/__init__.py</td>\n",
       "      <td>a/src/pandora/__init__.py b/src/pandora/__ini...</td>\n",
       "      <td>f33d09288498be4921e244d674845170967053b9</td>\n",
       "    </tr>\n",
       "  </tbody>\n",
       "</table>\n",
       "</div>"
      ],
      "text/plain": [
       "  repo_name                                     commit_message  \\\n",
       "0   pandora  展示模型名追加tags (#951)\\n\\n原来格式化的结果可能存在同名model的情况，让...   \n",
       "1   pandora  Add the missing Docker env: PANDORA_THREADS\\n\\...   \n",
       "2   pandora  Add the missing Docker env: PANDORA_THREADS\\n\\...   \n",
       "3   pandora  Add the missing Docker env: PANDORA_THREADS\\n\\...   \n",
       "4   pandora  Add the missing Docker env: PANDORA_THREADS\\n\\...   \n",
       "\n",
       "                files_changed  \\\n",
       "0  src/pandora/bots/legacy.py   \n",
       "1              bin/startup.sh   \n",
       "2                 doc/wiki.md   \n",
       "3              doc/wiki_en.md   \n",
       "4     src/pandora/__init__.py   \n",
       "\n",
       "                                      commit_changes  \\\n",
       "0   a/src/pandora/bots/legacy.py b/src/pandora/bo...   \n",
       "1   a/bin/startup.sh b/bin/startup.sh\\nindex c6eb...   \n",
       "2   a/doc/wiki.md b/doc/wiki.md\\nindex 20330da..6...   \n",
       "3   a/doc/wiki_en.md b/doc/wiki_en.md\\nindex 2f93...   \n",
       "4   a/src/pandora/__init__.py b/src/pandora/__ini...   \n",
       "\n",
       "                                       hash  \n",
       "0  8f2d776f6a72c9d5973a24ecbea4b5ace8c7338d  \n",
       "1  f33d09288498be4921e244d674845170967053b9  \n",
       "2  f33d09288498be4921e244d674845170967053b9  \n",
       "3  f33d09288498be4921e244d674845170967053b9  \n",
       "4  f33d09288498be4921e244d674845170967053b9  "
      ]
     },
     "execution_count": 19,
     "metadata": {},
     "output_type": "execute_result"
    }
   ],
   "source": [
    "cleaned_data = data.copy()\n",
    "cleaned_data.head()"
   ]
  },
  {
   "cell_type": "code",
   "execution_count": 20,
   "metadata": {
    "ExecuteTime": {
     "end_time": "2023-08-04T01:37:12.773366677Z",
     "start_time": "2023-08-04T01:37:12.459030600Z"
    },
    "collapsed": false,
    "jupyter": {
     "outputs_hidden": false
    }
   },
   "outputs": [],
   "source": [
    "#remove data samples with non-ascii characters\n",
    "cleaned_data = cleaned_data.drop(non_ascii_commits.index)"
   ]
  },
  {
   "cell_type": "code",
   "execution_count": 21,
   "metadata": {
    "ExecuteTime": {
     "end_time": "2023-08-04T01:37:14.190615470Z",
     "start_time": "2023-08-04T01:37:13.700692567Z"
    },
    "collapsed": false,
    "jupyter": {
     "outputs_hidden": false
    }
   },
   "outputs": [
    {
     "data": {
      "text/plain": [
       "repo_name\n",
       "Github-Ranking             61580\n",
       "hosts                      33339\n",
       "PaddleSpeech               30035\n",
       "PaddleNLP                  22964\n",
       "gensim                     21192\n",
       "                           ...  \n",
       "jumpcutter                    23\n",
       "TikTokDownload                21\n",
       "Awesome-PyTorch-Chinese       15\n",
       "uncaptcha2                     9\n",
       "ECDICT                         7\n",
       "Name: commit_message, Length: 311, dtype: int64"
      ]
     },
     "execution_count": 21,
     "metadata": {},
     "output_type": "execute_result"
    }
   ],
   "source": [
    "cleaned_data.groupby('repo_name').count().sort_values(by='commit_message', ascending=False)['commit_message']"
   ]
  },
  {
   "cell_type": "code",
   "execution_count": 22,
   "metadata": {
    "ExecuteTime": {
     "end_time": "2023-08-04T01:37:18.134458703Z",
     "start_time": "2023-08-04T01:37:17.913075446Z"
    },
    "collapsed": false,
    "jupyter": {
     "outputs_hidden": false
    }
   },
   "outputs": [],
   "source": [
    "#remove Github-Ranking\n",
    "cleaned_data = cleaned_data[cleaned_data['repo_name'] != 'Github-Ranking']"
   ]
  },
  {
   "cell_type": "code",
   "execution_count": 23,
   "metadata": {
    "ExecuteTime": {
     "end_time": "2023-08-04T01:37:19.960669089Z",
     "start_time": "2023-08-04T01:37:18.600626629Z"
    },
    "collapsed": false,
    "jupyter": {
     "outputs_hidden": false
    }
   },
   "outputs": [],
   "source": [
    "#remove samples with len of the changes > 6k characters\n",
    "cleaned_data = cleaned_data[cleaned_data['commit_changes'].apply(lambda x: len(x)) <= 6000]"
   ]
  },
  {
   "cell_type": "code",
   "execution_count": 24,
   "metadata": {
    "ExecuteTime": {
     "end_time": "2023-08-04T01:37:20.402601452Z",
     "start_time": "2023-08-04T01:37:19.960413387Z"
    },
    "collapsed": false,
    "jupyter": {
     "outputs_hidden": false
    }
   },
   "outputs": [],
   "source": [
    "commit_msg_len = cleaned_data['commit_message'].apply(lambda x: len(x))\n",
    "commit_msg_len = np.array(commit_msg_len)"
   ]
  },
  {
   "cell_type": "code",
   "execution_count": 25,
   "metadata": {
    "ExecuteTime": {
     "end_time": "2023-08-04T01:37:21.642641854Z",
     "start_time": "2023-08-04T01:37:20.466532446Z"
    },
    "collapsed": false,
    "jupyter": {
     "outputs_hidden": false
    },
    "scrolled": true
   },
   "outputs": [
    {
     "name": "stdout",
     "output_type": "stream",
     "text": [
      "Enabling SST2 dataset usage in fbcode (#1426)\n",
      "\n",
      "* include pytorch 1.5.0-rc1 for CI test\n",
      "\n",
      "* bump up the version\n",
      "\n",
      "* Set up ShipIt\n",
      "\n",
      "fbshipit-source-id: bb7d2eb52240c7223b57c3c9624e61d116e77e39\n",
      "\n",
      "* Re-sync with internal repository (#749)\n",
      "\n",
      "* 20200429 pytorch/text import\n",
      "\n",
      "Summary: [20:45:34: cpuhrsch@devvm3140 pytorch]$ ./fb_build/import_text.sh\n",
      "\n",
      "Reviewed By: pbelevich\n",
      "\n",
      "Differential Revision: D21320577\n",
      "\n",
      "fbshipit-source-id: ac2148b9f0d58e5538443c879845bfb4f6ca7202\n",
      "\n",
      "* 20200430 torchtext import script to include additional meta files\n",
      "\n",
      "Summary: ./fb_build/import_text.sh\n",
      "\n",
      "Reviewed By: zhangguanheng66\n",
      "\n",
      "Differential Revision: D21343124\n",
      "\n",
      "fbshipit-source-id: c08ecad2cc6f439fa40130aeaf91383be9403fe8\n",
      "\n",
      "* torchtext flake8, github, travis metafiles\n",
      "\n",
      "Summary: See title\n",
      "\n",
      "Reviewed By: pbelevich\n",
      "\n",
      "Differential Revision: D21344211\n",
      "\n",
      "fbshipit-source-id: a8bcf7f3ab9bb2c2853e27f612e82caa341d3651\n",
      "\n",
      "* Import torchtext 20200520 and update build\n",
      "\n",
      "Summary: Import torchtext up to #786\n",
      "\n",
      "Reviewed By: cpuhrsch\n",
      "\n",
      "Differential Revision: D21483116\n",
      "\n",
      "fbshipit-source-id: bc8ab38db9dc9ce4a8734ca8ea991c20e4ef0882\n",
      "\n",
      "* Import torchtext 20200528\n",
      "\n",
      "Summary:\n",
      "Import up to #798\n",
      "Addresses T67599333\n",
      "\n",
      "Reviewed By: zhangguanheng66\n",
      "\n",
      "Differential Revision: D21764935\n",
      "\n",
      "fbshipit-source-id: f44d1db637799f2e95f420a8099fbf19545c7cbd\n",
      "\n",
      "* 20200604 torchtext github import\n",
      "\n",
      "Summary: Import from github master\n",
      "\n",
      "Reviewed By: zhangguanheng66\n",
      "\n",
      "Differential Revision: D21886238\n",
      "\n",
      "fbshipit-source-id: a8f098e299466dd1701fe7ceb6a97c2a2fc54b9d\n",
      "\n",
      "* Import torchtext 20200605\n",
      "\n",
      "Summary: Import from github master\n",
      "\n",
      "Reviewed By: zhangguanheng66\n",
      "\n",
      "Differential Revision: D21907519\n",
      "\n",
      "fbshipit-source-id: f22370d97796da5f2cb9f76f506c80f18fefea7f\n",
      "\n",
      "* Back out \"Import torchtext 20200605\"\n",
      "\n",
      "Summary: Original commit changeset: f22370d97796\n",
      "\n",
      "Reviewed By: zhangguanheng66\n",
      "\n",
      "Differential Revision: D21964222\n",
      "\n",
      "fbshipit-source-id: c316836596fc3e232e63abc59e172f237b551cc5\n",
      "\n",
      "* Import torchtext 2020/06/22\n",
      "\n",
      "Summary: Import from github torchtext/master\n",
      "\n",
      "Reviewed By: zhangguanheng66, cpuhrsch\n",
      "\n",
      "Differential Revision: D22168183\n",
      "\n",
      "fbshipit-source-id: 7d96ade64f18942d9bd19437011be2f65f0b2a5e\n",
      "\n",
      "* Fix torch.testing._internal module not found\n",
      "\n",
      "Reviewed By: Nayef211\n",
      "\n",
      "Differential Revision: D22315715\n",
      "\n",
      "fbshipit-source-id: 6b8b8544b0aa458cf5e7e9ca380d0dc85c98189f\n",
      "\n",
      "* Import torchtext 2020/07/07\n",
      "\n",
      "Summary: Import from github torchtext/master\n",
      "\n",
      "Reviewed By: cpuhrsch\n",
      "\n",
      "Differential Revision: D22420576\n",
      "\n",
      "fbshipit-source-id: 4d2c19d7f1db8f698894ca406c1c44b2ad8e0506\n",
      "\n",
      "* remediation of S205607\n",
      "\n",
      "fbshipit-source-id: 5113fe0c527595e4227ff827253b7414abbdf7ac\n",
      "\n",
      "* remediation of S205607\n",
      "\n",
      "fbshipit-source-id: 798decc90db4f13770e97cdce3c0df7d5421b2a3\n",
      "\n",
      "* Import torchtext 2020/07/21\n",
      "\n",
      "Summary: Import from github torchtext/master\n",
      "\n",
      "Reviewed By: zhangguanheng66\n",
      "\n",
      "Differential Revision: D22641140\n",
      "\n",
      "fbshipit-source-id: 8190692d059a937e25c5f93506581086f389c291\n",
      "\n",
      "* Remove .python3 markers\n",
      "\n",
      "Reviewed By: ashwinp-fb\n",
      "\n",
      "Differential Revision: D22955630\n",
      "\n",
      "fbshipit-source-id: f00ef17a905e4c7cd9196c8924db39f9cdfe8cfa\n",
      "\n",
      "* Import torchtext 2020/08/06\n",
      "\n",
      "Summary: Import from github torchtext/master\n",
      "\n",
      "Reviewed By: zhangguanheng66\n",
      "\n",
      "Differential Revision: D22989210\n",
      "\n",
      "fbshipit-source-id: 083464e188b758a8746123f4dd2197cc7edc4bc4\n",
      "\n",
      "* Import torchtext 2020/08/18\n",
      "\n",
      "Summary: Import from github torchtext/master\n",
      "\n",
      "Reviewed By: cpuhrsch\n",
      "\n",
      "Differential Revision: D23190596\n",
      "\n",
      "fbshipit-source-id: 1568a25a5bd6431bcef3c6539f64a3ab1f5bccd7\n",
      "\n",
      "* Import torchtext from 8aecbb9\n",
      "\n",
      "Reviewed By: hudeven\n",
      "\n",
      "Differential Revision: D23451795\n",
      "\n",
      "fbshipit-source-id: 73e6130c16716919c77862cef4ca4c8048428670\n",
      "\n",
      "* Import torchtext 9/4/2020\n",
      "\n",
      "Reviewed By: Nayef211\n",
      "\n",
      "Differential Revision: D23539397\n",
      "\n",
      "fbshipit-source-id: 88dce59418a3071cbc9e944cf0a4cf2117d7d9f7\n",
      "\n",
      "* Import github torchtext on 9/9/2020\n",
      "\n",
      "Reviewed By: cpuhrsch\n",
      "\n",
      "Differential Revision: D23616189\n",
      "\n",
      "fbshipit-source-id: 365debc987326145eead7456ed48517fe55cac96\n",
      "\n",
      "* Add property support for ScriptModules (#42390)\n",
      "\n",
      "Summary:\n",
      "Pull Request resolved: https://github.com/pytorch/pytorch/pull/42390\n",
      "\n",
      "**Summary**\n",
      "This commit extends support for properties to include\n",
      "ScriptModules.\n",
      "\n",
      "**Test Plan**\n",
      "This commit adds a unit test that has a ScriptModule with\n",
      "a user-defined property.\n",
      "\n",
      "`python test/test_jit_py3.py TestScriptPy3.test_module_properties`\n",
      "\n",
      "Test Plan: Imported from OSS\n",
      "\n",
      "Reviewed By: eellison, mannatsingh\n",
      "\n",
      "Differential Revision: D22880298\n",
      "\n",
      "Pulled By: SplitInfinity\n",
      "\n",
      "fbshipit-source-id: 74f6cb80f716084339e2151ca25092b6341a1560\n",
      "\n",
      "* sync with OSS torchtext 9/15/20\n",
      "\n",
      "Reviewed By: cpuhrsch\n",
      "\n",
      "Differential Revision: D23721167\n",
      "\n",
      "fbshipit-source-id: 13b32091c422a3ed0ae299595d69a7afa7136638\n",
      "\n",
      "* Import Github torchtext on 9/28/2020\n",
      "\n",
      "Reviewed By: cpuhrsch\n",
      "\n",
      "Differential Revision: D23962265\n",
      "\n",
      "fbshipit-source-id: 0d042878fe9119aa725e982ab7d5e96e7c885a59\n",
      "\n",
      "* Enable @unused syntax for ignoring properties (#45261)\n",
      "\n",
      "Summary:\n",
      "Pull Request resolved: https://github.com/pytorch/pytorch/pull/45261\n",
      "\n",
      "**Summary**\n",
      "This commit enables `unused` syntax for ignoring\n",
      "properties. Inoring properties is more intuitive with this feature enabled.\n",
      "`ignore` is not supported because class type properties cannot be\n",
      "executed in Python (because they exist only as TorchScript types) like\n",
      "an `ignored` function and module properties that cannot be scripted\n",
      "are not added to the `ScriptModule` wrapper so that they\n",
      "may execute in Python.\n",
      "\n",
      "**Test Plan**\n",
      "This commit updates the existing unit tests for class type and module\n",
      "properties to test properties ignored using `unused`.\n",
      "\n",
      "Test Plan: Imported from OSS\n",
      "\n",
      "Reviewed By: navahgar, Krovatkin, mannatsingh\n",
      "\n",
      "Differential Revision: D23971881\n",
      "\n",
      "Pulled By: SplitInfinity\n",
      "\n",
      "fbshipit-source-id: 8d3cc1bbede7753d6b6f416619e4660c56311d33\n",
      "\n",
      "* Import Github torchtext on 10/11/2020\n",
      "\n",
      "Reviewed By: cpuhrsch\n",
      "\n",
      "Differential Revision: D24242037\n",
      "\n",
      "fbshipit-source-id: 605d81412c320373f1158c51dbb120e7d70d624d\n",
      "\n",
      "* make duplicate def() calls an error in the dispatcher. Updating all fb operators to use the new dispatcher registration API (#47322)\n",
      "\n",
      "Summary:\n",
      "Pull Request resolved: https://github.com/pytorch/pytorch/pull/47322\n",
      "\n",
      "Updating all call-sites of the legacy dispatcher registration API in fbcode to the new API.\n",
      "\n",
      "I migrated all call sites that used the legacy dispatcher registration API (RegisterOperators()) to use the new API (TORCH_LIBRARY...). I found all call-sites by running `fbgs RegisterOperators()`. This includes several places, including other OSS code (nestedtensor, torchtext, torchvision). A few things to call out:\n",
      "\n",
      "For simple ops that only had one registered kernel without a dispatch key, I replaced them with:\n",
      "```\n",
      "TORCH_LIBRARY_FRAGMENT(ns, m) {\n",
      "   m.def(\"opName\", fn_name);\n",
      "}\n",
      "```\n",
      "\n",
      "For ops that registered to a specific dispatch key / had multiple kernels registered, I registered the common kernel (math/cpu) directly inside a `TORCH_LIBRARY_FRAGMENT` block, and registered any additional kernels from other files (e.g. cuda) in a separate `TORCH_LIBRARY_IMPL` block.\n",
      "\n",
      "```\n",
      "// cpu file\n",
      "TORCH_LIBRARY_FRAGMENT(ns, m) {\n",
      "  m.def(\"opName(schema_inputs) -> schema_outputs\");\n",
      "  m.impl(\"opName\", torch::dispatch(c10::DispatchKey::CPU, TORCH_FN(cpu_kernel)));\n",
      "}\n",
      "\n",
      "// cuda file\n",
      "TORCH_LIBRARY_IMPL(ns, CUDA, m) {\n",
      "  m.impl(\"opName\", torch::dispatch(c10::DispatchKey::CUDA, TORCH_FN(cuda_kernel)));\n",
      "}\n",
      "```\n",
      "Special cases:\n",
      "\n",
      "I found a few ops that used a (legacy) `CPUTensorId`/`CUDATensorId` dispatch key. Updated those to use CPU/CUDA- this seems safe because the keys are aliased to one another in `DispatchKey.h`\n",
      "\n",
      "There were a handful of ops that registered a functor (function class) to the legacy API. As far as I could tell we don't allow this case in the new API, mainly because you can accomplish the same thing more cleanly with lambdas. Rather than delete the class I wrote a wrapper function on top of the class, which I passed to the new API.\n",
      "\n",
      "There were a handful of ops that were registered only to a CUDA dispatch key. I put them inside a TORCH_LIBRARY_FRAGMENT block, and used a `def()` and `impl()` call like in case two above.\n",
      "\n",
      "Test Plan: Imported from OSS\n",
      "\n",
      "Reviewed By: ezyang\n",
      "\n",
      "Differential Revision: D24714803\n",
      "\n",
      "Pulled By: bdhirsh\n",
      "\n",
      "fbshipit-source-id: c809aad8a698db3fd0d832f117f833e997b159e1\n",
      "\n",
      "* Revert D24714803: make duplicate def() calls an error in the dispatcher. Updating all fb operators to use the new dispatcher registration API\n",
      "\n",
      "Differential Revision:\n",
      "D24714803\n",
      "\n",
      "Original commit changeset: c809aad8a698\n",
      "\n",
      "fbshipit-source-id: fb2ada65f9fc00d965708d202bd9d050f13ef467\n",
      "\n",
      "* Import torchtext on Nov 20, 2020\n",
      "\n",
      "Summary:\n",
      "Import torchtext on the commit of 633548a1bdf0bac1e38f98da375a537ce0c2994b\n",
      "\n",
      "allow-large-files\n",
      "\n",
      "Reviewed By: cpuhrsch\n",
      "\n",
      "Differential Revision: D25127691\n",
      "\n",
      "fbshipit-source-id: 3a617f5f4849df452f8a102a77ce11a1bce5af1f\n",
      "\n",
      "* Updating all call-sites of the legacy dispatcher registration API in fbcode to the new API. (#48178)\n",
      "\n",
      "Summary:\n",
      "Pull Request resolved: https://github.com/pytorch/pytorch/pull/48178\n",
      "\n",
      "I migrated all call sites that used the legacy dispatcher registration API (RegisterOperators()) to use the new API (TORCH_LIBRARY...). I found all call-sites by running `fbgs RegisterOperators()`. This includes several places, including other OSS code (nestedtensor, torchtext, torchvision). A few things to call out:\n",
      "\n",
      "For simple ops that only had one registered kernel without a dispatch key, I replaced them with:\n",
      "```\n",
      "TORCH_LIBRARY_FRAGMENT(ns, m) {\n",
      "   m.def(\"opName\", fn_name);\n",
      "}\n",
      "```\n",
      "\n",
      "For ops that registered to a specific dispatch key / had multiple kernels registered, I registered the common kernel (math/cpu) directly inside a `TORCH_LIBRARY_FRAGMENT` block, and registered any additional kernels from other files (e.g. cuda) in a separate `TORCH_LIBRARY_IMPL` block.\n",
      "\n",
      "```\n",
      "// cpu file\n",
      "TORCH_LIBRARY_FRAGMENT(ns, m) {\n",
      "  m.def(\"opName(schema_inputs) -> schema_outputs\");\n",
      "  m.impl(\"opName\", torch::dispatch(c10::DispatchKey::CPU, TORCH_FN(cpu_kernel)));\n",
      "}\n",
      "\n",
      "// cuda file\n",
      "TORCH_LIBRARY_IMPL(ns, CUDA, m) {\n",
      "  m.impl(\"opName\", torch::dispatch(c10::DispatchKey::CUDA, TORCH_FN(cuda_kernel)));\n",
      "}\n",
      "```\n",
      "Special cases:\n",
      "\n",
      "I found a few ops that used a (legacy) `CPUTensorId`/`CUDATensorId` dispatch key. Updated those to use CPU/CUDA- this seems safe because the keys are aliased to one another in `DispatchKey.h`\n",
      "\n",
      "There were a handful of ops that registered a functor (function class) to the legacy API. As far as I could tell we don't allow this case in the new API, mainly because you can accomplish the same thing more cleanly with lambdas. Rather than delete the class I wrote a wrapper function on top of the class, which I passed to the new API.\n",
      "\n",
      "There were a handful of ops that were registered only to a CUDA dispatch key. I put them inside a TORCH_LIBRARY_FRAGMENT block, and used a `def()` and `impl()` call like in case two above.\n",
      "\n",
      "Test Plan: Imported from OSS\n",
      "\n",
      "Reviewed By: ezyang\n",
      "\n",
      "Differential Revision: D25056090\n",
      "\n",
      "Pulled By: bdhirsh\n",
      "\n",
      "fbshipit-source-id: 8f868b45f545e5da2f21924046e786850eba70d9\n",
      "\n",
      "* Import torchtext from github into fbcode on 1/11/2021\n",
      "\n",
      "Reviewed By: cpuhrsch\n",
      "\n",
      "Differential Revision: D25873762\n",
      "\n",
      "fbshipit-source-id: 0d34d36aeb8e7e2ce72fcf345c5e7e713ef3663c\n",
      "\n",
      "* Import torchtext from github #1121 d56fffe\n",
      "\n",
      "Summary: Import torchtext from github #1121 d56fffe\n",
      "\n",
      "Reviewed By: zhangguanheng66\n",
      "\n",
      "Differential Revision: D25976268\n",
      "\n",
      "fbshipit-source-id: 81589f8988a54cc12f17f0a6f298a915e829a830\n",
      "\n",
      "* Import the hidden files in torchtext github repo\n",
      "\n",
      "Reviewed By: mthrok\n",
      "\n",
      "Differential Revision: D26001386\n",
      "\n",
      "fbshipit-source-id: f822f0f32232d3006ef629937520dee6c0faf414\n",
      "\n",
      "* add a newline mark to config.yml file (#1128)\n",
      "\n",
      "Reviewed By: zhangguanheng66\n",
      "\n",
      "Differential Revision: D26369003\n",
      "\n",
      "fbshipit-source-id: 09ca48f9705d8663b06e6a329a6b64b24f9c148e\n",
      "\n",
      "* Replace model with full name when spacy load is used (#1140)\n",
      "\n",
      "Reviewed By: zhangguanheng66\n",
      "\n",
      "Differential Revision: D26369005\n",
      "\n",
      "fbshipit-source-id: b1e6b5d77810bb8f67d14b8a1c7ec0a9f4831cab\n",
      "\n",
      "* Fix the num_lines argument of the setup_iter func in RawTextIterableDataset (#1142)\n",
      "\n",
      "Reviewed By: zhangguanheng66\n",
      "\n",
      "Differential Revision: D26368999\n",
      "\n",
      "fbshipit-source-id: 4b50e5d9e5fbdf633e8b3f0072223eed050af793\n",
      "\n",
      "* Fix broken CI tests due to spacy 3.0 release (#1138)\n",
      "\n",
      "Reviewed By: zhangguanheng66\n",
      "\n",
      "Differential Revision: D26368998\n",
      "\n",
      "fbshipit-source-id: 84e883562a9a3d0fe47b54823b22f7b2cd82fca4\n",
      "\n",
      "* Switch data_select in dataset signature to split (#1143)\n",
      "\n",
      "Reviewed By: zhangguanheng66\n",
      "\n",
      "Differential Revision: D26369006\n",
      "\n",
      "fbshipit-source-id: 608f42fa180db9ebcfaaeadc6b8cdd29393262af\n",
      "\n",
      "* Add offset arg in the raw text dataset (#1145)\n",
      "\n",
      "Reviewed By: zhangguanheng66\n",
      "\n",
      "Differential Revision: D26368996\n",
      "\n",
      "fbshipit-source-id: 52741015139c302b7b0ddf8c8f50ab45a609fd2f\n",
      "\n",
      "* switch to_ivalue to __prepare_scriptable__ (#1080)\n",
      "\n",
      "Reviewed By: zhangguanheng66\n",
      "\n",
      "Differential Revision: D26368995\n",
      "\n",
      "fbshipit-source-id: 0352c04e422c835350bd42df35d4054d543fee36\n",
      "\n",
      "* Pass an embedding layer to the constructor of the BertModel class (#1135)\n",
      "\n",
      "Reviewed By: zhangguanheng66\n",
      "\n",
      "Differential Revision: D26369001\n",
      "\n",
      "fbshipit-source-id: f5a67a2a812d568073505ec4d181f6e418eb4a3f\n",
      "\n",
      "* add __next__ method to RawTextIterableDataset (#1141)\n",
      "\n",
      "Reviewed By: zhangguanheng66\n",
      "\n",
      "Differential Revision: D26368997\n",
      "\n",
      "fbshipit-source-id: f5ef78f5f4a224db497f47f774eaddedd0498b4b\n",
      "\n",
      "* Add func to count the total number of parameters in a model (#1134)\n",
      "\n",
      "Reviewed By: zhangguanheng66\n",
      "\n",
      "Differential Revision: D26369000\n",
      "\n",
      "fbshipit-source-id: c687c0f0c2697dbd9c17a79a1291a2e279bbd1b8\n",
      "\n",
      "* Retire the legacy code in torchtext library and fix the dependency of the downstream libraries\n",
      "\n",
      "Summary: This diff is doing: 1) move the legacy code in torchtext to the legacy folder; 2) for the downstream libraries in fbcode, if they are using the legacy code, add \"legacy\" to the path.\n",
      "\n",
      "Reviewed By: cpuhrsch\n",
      "\n",
      "Differential Revision: D23718437\n",
      "\n",
      "fbshipit-source-id: 1660868aaa95ac6555ad6793dda5ce02a9acdc08\n",
      "\n",
      "* Sync torchtext GH<->fbcode until GH commit 1197514eb8cc33ccff10f588534f405b43908660\n",
      "\n",
      "Summary: Import recent torchtext changes up until GH commit 1197514eb8cc33ccff10f588534f405b43908660\n",
      "\n",
      "Reviewed By: zhangguanheng66\n",
      "\n",
      "Differential Revision: D26824967\n",
      "\n",
      "fbshipit-source-id: fc4be4f94a8f748ce2ed5e776e30a42422cbcab9\n",
      "\n",
      "* 20210304[2] Sync torchtext GH<->fbcode until GH commit 2764143865678c41e69ad3b993556fe90c1e6391\n",
      "\n",
      "Summary: Sync up until commit in title\n",
      "\n",
      "Reviewed By: zhangguanheng66\n",
      "\n",
      "Differential Revision: D26829429\n",
      "\n",
      "fbshipit-source-id: a059a36d83b3803dfed9198d0e474e0e75f94f17\n",
      "\n",
      "* 20210308 Sync torchtext GH <-> fbcode\n",
      "\n",
      "Summary: Import latest GH changes\n",
      "\n",
      "Reviewed By: zhangguanheng66\n",
      "\n",
      "Differential Revision: D26888371\n",
      "\n",
      "fbshipit-source-id: cc27f51fd89ad86b8bcfb8f286ad874ab01b1fd6\n",
      "\n",
      "* Re-name raw_datasets.json file with jsonl extension\n",
      "\n",
      "Reviewed By: cpuhrsch\n",
      "\n",
      "Differential Revision: D26923978\n",
      "\n",
      "fbshipit-source-id: c87c7776445e05d452f6b38244bf4cdaba45bdec\n",
      "\n",
      "* 20210329 Sync torchtext up to GH commit eb5e39d3d40525c0064c8e7b7c976755e7341a8b\n",
      "\n",
      "Summary: Sync torchtext up to GH commit eb5e39d3d40525c0064c8e7b7c976755e7341a8b\n",
      "\n",
      "Reviewed By: parmeet\n",
      "\n",
      "Differential Revision: D27400885\n",
      "\n",
      "fbshipit-source-id: 1f8f92ca42ba36d070db6740b3bb4c148f69586b\n",
      "\n",
      "* Import torchtext #1267 93b03e4\n",
      "\n",
      "Summary:\n",
      "Imported latest from github Master\n",
      "PR#1267\n",
      "\n",
      "Reviewed By: cpuhrsch\n",
      "\n",
      "Differential Revision: D27503970\n",
      "\n",
      "fbshipit-source-id: 853ff895ba42b1feb7442abe1c87478e43d62e5b\n",
      "\n",
      "* Import torchtext #1266 ba0bf52\n",
      "\n",
      "Summary: Import torchtext from github\n",
      "\n",
      "Reviewed By: parmeet\n",
      "\n",
      "Differential Revision: D27803909\n",
      "\n",
      "fbshipit-source-id: 9cb0f15858b1417cb5868d5651513eb2df998fbe\n",
      "\n",
      "* Import torchtext #1287 fab63ed\n",
      "\n",
      "Reviewed By: parmeet\n",
      "\n",
      "Differential Revision: D27922562\n",
      "\n",
      "fbshipit-source-id: 3c18cd9e2583e03471461ad8a22ac6b0ceb596a2\n",
      "\n",
      "* Import torchtext #1293 d2a0776\n",
      "\n",
      "Summary: Importing torchtext from github for regular sync.\n",
      "\n",
      "Reviewed By: cpuhrsch\n",
      "\n",
      "Differential Revision: D27983819\n",
      "\n",
      "fbshipit-source-id: 5806421d788afaa872f5320b5f4cbcd913e103ea\n",
      "\n",
      "* Import torchtext #1291 0790ce6\n",
      "\n",
      "Reviewed By: parmeet\n",
      "\n",
      "Differential Revision: D28101664\n",
      "\n",
      "fbshipit-source-id: a8643b3ecf85de2cb815dcfa5789a4a5d246d80f\n",
      "\n",
      "* adding __contains__ method to experimental vocab (#1297)\n",
      "\n",
      "Reviewed By: cpuhrsch\n",
      "\n",
      "Differential Revision: D28111696\n",
      "\n",
      "fbshipit-source-id: fef195941492493a399adb37339cfa64795e22a0\n",
      "\n",
      "* Import torchtext #1292 ede6ce65eb5405ff1f8801ff6b354bb1cd242108\n",
      "\n",
      "Summary: This diff syncs torchtext GH with fbcode\n",
      "\n",
      "Reviewed By: cpuhrsch\n",
      "\n",
      "Differential Revision: D28321356\n",
      "\n",
      "fbshipit-source-id: 7736f0d100941627b58424911a1329b1ce66c123\n",
      "\n",
      "* Added APIs for default index and removed unk token (#1302)\n",
      "\n",
      "Reviewed By: parmeet\n",
      "\n",
      "Differential Revision: D28478153\n",
      "\n",
      "fbshipit-source-id: bfcaffe8fe48e96d8df454f7df0d25ec39d5d4a6\n",
      "\n",
      "* Swapping experimental Vocab and retiring current Vocab into legacy (#1289)\n",
      "\n",
      "Summary: allow-large-files to commit wikitext103_vocab.pt\n",
      "\n",
      "Reviewed By: cpuhrsch\n",
      "\n",
      "Differential Revision: D28478152\n",
      "\n",
      "fbshipit-source-id: c2a871439f054024b95c05f7664a84028aacaca3\n",
      "\n",
      "* Import torchtext #1313 36e33e2\n",
      "\n",
      "Summary: Importing from Github\n",
      "\n",
      "Reviewed By: cpuhrsch\n",
      "\n",
      "Differential Revision: D28572929\n",
      "\n",
      "fbshipit-source-id: 2e7b00aadeda6ab0596ef23295f41c5b0fa246e7\n",
      "\n",
      "* Adding API usage logging\n",
      "\n",
      "Summary: Adding API usage logging for Vocab module\n",
      "\n",
      "Reviewed By: colin2328\n",
      "\n",
      "Differential Revision: D28585537\n",
      "\n",
      "fbshipit-source-id: 38975b523fb597412fbcb18ef831bfb4834cb420\n",
      "\n",
      "* Import torchtext #1314 99557efd98dd0e74346975d75183dd8aa32eb37e\n",
      "\n",
      "Reviewed By: parmeet\n",
      "\n",
      "Differential Revision: D28683381\n",
      "\n",
      "fbshipit-source-id: 7bfbf445dd512f0ce21c34096cf3f08332d90138\n",
      "\n",
      "* Import torchtext #1325 57a1df3\n",
      "\n",
      "Reviewed By: NicolasHug\n",
      "\n",
      "Differential Revision: D28994054\n",
      "\n",
      "fbshipit-source-id: 4c679f56ef37b18f6d2acaaaed8518facbeaa41c\n",
      "\n",
      "* Import torchtext #1328 ca514f6\n",
      "\n",
      "Summary: Import torchtext #1328 ca514f6\n",
      "\n",
      "Reviewed By: NicolasHug\n",
      "\n",
      "Differential Revision: D29120370\n",
      "\n",
      "fbshipit-source-id: 229586f3470bd61bfb2f6a390d79e45d4eae3b4d\n",
      "\n",
      "* up the priority of numpy array comparisons in self.assertEqual (#59067) (#1340)\n",
      "\n",
      "* Re-sync with internal repository (#1343)\n",
      "\n",
      "* up the priority of numpy array comparisons in self.assertEqual (#59067)\n",
      "\n",
      "Summary:\n",
      "Fixes https://github.com/pytorch/pytorch/issues/58988.\n",
      "\n",
      "Pull Request resolved: https://github.com/pytorch/pytorch/pull/59067\n",
      "\n",
      "Reviewed By: jbschlosser\n",
      "\n",
      "Differential Revision: D28986642\n",
      "\n",
      "Pulled By: heitorschueroff\n",
      "\n",
      "fbshipit-source-id: 3ef2d26b4010fc3519d0a1a020ea446ffeb46ba0\n",
      "\n",
      "* Import torchtext #1300 0435df13924fd4582d67e5b17bc09f6ded18be8b\n",
      "\n",
      "Summary: Import torchtext #1300 0435df13924fd4582d67e5b17bc09f6ded18be8b\n",
      "\n",
      "Reviewed By: parmeet\n",
      "\n",
      "Differential Revision: D29371832\n",
      "\n",
      "fbshipit-source-id: 624280ddfa787a4e7628e60fa673cb9df0a66641\n",
      "\n",
      "* Import torchtext #1345 8cf471c\n",
      "\n",
      "Summary: Import from github\n",
      "\n",
      "Reviewed By: hudeven\n",
      "\n",
      "Differential Revision: D29441995\n",
      "\n",
      "fbshipit-source-id: 27731ce2714c16180d11bfb26af5d5a2dba408b1\n",
      "\n",
      "* Import torchtext #1352 7ab50af\n",
      "\n",
      "Summary: Import from github\n",
      "\n",
      "Reviewed By: NicolasHug\n",
      "\n",
      "Differential Revision: D29537684\n",
      "\n",
      "fbshipit-source-id: 25b1fc1e6d9f930e83f5f2939788b90b083aeaa2\n",
      "\n",
      "* Enabling torchtext datasets access via manifold and iopath\n",
      "\n",
      "Summary:\n",
      "We would like to add and access torchtext datasets on manifold. This Diff unifies the dataset download from external links and through manifold for internal access. This is enabled via io_path package.\n",
      "\n",
      "The main idea is to plugin the download hooks in the download_from_url function. The download hooks will delegate the download to appropriate Path Handler. In OSS we have enabled download via https and google drive. Internally, we replace the download hook to download data from manifold.\n",
      "\n",
      "We have created a _download_hooks.py file under /fb/ folder which will replace the corresponding file in OSS. The file under /fb/ folder converts the http/https URL paths into corresponding manifold paths and download the data from there.\n",
      "\n",
      "Reviewed By: hudeven\n",
      "\n",
      "Differential Revision: D28892389\n",
      "\n",
      "fbshipit-source-id: 3b66544dd2345075e2e7c524f344db04aa2a24e3\n",
      "\n",
      "* Import torchtext #1361 05cb992\n",
      "\n",
      "Summary: Import from github\n",
      "\n",
      "Reviewed By: hudeven\n",
      "\n",
      "Differential Revision: D29856211\n",
      "\n",
      "fbshipit-source-id: 6332f9bdf3cf4eef572c5423db15101ea904d825\n",
      "\n",
      "* Import torchtext #1365 c57b1fb\n",
      "\n",
      "Summary: Import torchtext #1365 c57b1fb\n",
      "\n",
      "Reviewed By: parmeet\n",
      "\n",
      "Differential Revision: D29940816\n",
      "\n",
      "fbshipit-source-id: 6b2495b550a7e6b6110b0df12de51a87b0d31c1c\n",
      "\n",
      "* Moving Roberta building blocks to torchtext\n",
      "\n",
      "Summary: This is the first step in moving Roberta Model from pytext_lib into PyTorch Text Library. Here we moved the Roberta building blocks into pytorch/text/fb/nn/modules. The code-base is organized according to WIP document https://docs.google.com/document/d/1c0Fs-v97pndLrT3bdfGRGeUeEC38UcDpibvgOXkbS-g/edit#heading=h.3ybcf0ic42yp\n",
      "\n",
      "Reviewed By: hudeven\n",
      "\n",
      "Differential Revision: D29671800\n",
      "\n",
      "fbshipit-source-id: d01daa99e0a5463716660722381db9a0eeb083f8\n",
      "\n",
      "* Enabling torchtext availability in @mode/opt\n",
      "\n",
      "Summary:\n",
      "More details on context and solution: D29973934\n",
      "\n",
      "Note that in this implementation, we rely on over-riding behavior of _init_extention() function. This is in similar spirit where we over-ride behavior of download hooks to accommodate necessary changes needed to enable functionality on fbcode.\n",
      "\n",
      "Reviewed By: mthrok\n",
      "\n",
      "Differential Revision: D30494836\n",
      "\n",
      "fbshipit-source-id: b2b015263fa1bca2ef4d4214909e469df3fbe327\n",
      "\n",
      "* Import torchtext #1382 aa12e9a\n",
      "\n",
      "Summary: Import torchtext #1382 aa12e9a\n",
      "\n",
      "Reviewed By: parmeet\n",
      "\n",
      "Differential Revision: D30584905\n",
      "\n",
      "fbshipit-source-id: fba23cd19f31fc7826114dd2eb402c8f7b0553df\n",
      "\n",
      "* Simplify cpp extension initialization process\n",
      "\n",
      "Summary: Simplifying the cpp extension initialization process by following torchaudio's implementation in D30633316\n",
      "\n",
      "Reviewed By: mthrok\n",
      "\n",
      "Differential Revision: D30652618\n",
      "\n",
      "fbshipit-source-id: f80ac150fa50b1edc22419b21412f64e77064c5d\n",
      "\n",
      "* fixed bug with incorrect variable name in dataset_utils.py\n",
      "\n",
      "Summary:\n",
      "- ValueError was outputting `fn` instead of `func`\n",
      "- Similar fix done in torchdata https://github.com/facebookexternal/torchdata/pull/167\n",
      "\n",
      "Reviewed By: ejguan\n",
      "\n",
      "Differential Revision: D31149667\n",
      "\n",
      "fbshipit-source-id: 2c1228287d513895f8359cb97935252f0087d738\n",
      "\n",
      "* Import torchtext #1410 0930843\n",
      "\n",
      "Summary: Import latest from github\n",
      "\n",
      "Reviewed By: Nayef211\n",
      "\n",
      "Differential Revision: D31745899\n",
      "\n",
      "fbshipit-source-id: e4ac5c337bcbd1a8809544add7679dd3da242999\n",
      "\n",
      "* Import torchtext #1406 1fb2aed\n",
      "\n",
      "Summary: Import latest from github\n",
      "\n",
      "Reviewed By: Nayef211\n",
      "\n",
      "Differential Revision: D31762288\n",
      "\n",
      "fbshipit-source-id: f439e04f903d640027660cb969d6d9e00e7ed4a0\n",
      "\n",
      "* Import from github 10/18/21\n",
      "\n",
      "Summary: Syncing torchtext github main branch to fbcode\n",
      "\n",
      "Reviewed By: parmeet\n",
      "\n",
      "Differential Revision: D31841825\n",
      "\n",
      "fbshipit-source-id: 9c1a05295e6557ff411e56eb719cb439d5c424ba\n",
      "\n",
      "* Import torchtext #1420 0153ead\n",
      "\n",
      "Summary: Import latest from github\n",
      "\n",
      "Reviewed By: Nayef211\n",
      "\n",
      "Differential Revision: D31871772\n",
      "\n",
      "fbshipit-source-id: 989f5a453ef7680592df27e4174f465d11a2fbf8\n",
      "\n",
      "* Import torchtext #1421 bcc1455\n",
      "\n",
      "Summary: Syncing torchtext github main branch to fbcode\n",
      "\n",
      "Reviewed By: parmeet\n",
      "\n",
      "Differential Revision: D31873514\n",
      "\n",
      "fbshipit-source-id: 1a964a67ce7ee73f5acf3a1e3f8118028c2dd46e\n",
      "\n",
      "* Enable OSS torchtext XLMR Base/Large model on fbcode\n",
      "\n",
      "Summary:\n",
      "Enable access to open-source torchtext XLMR base/large implementation by:\n",
      "1) Uploading models/transform weights on manifold\n",
      "2) Patching public URL with manifold URL (similar to what we have for datasets)\n",
      "\n",
      "Note that we didn't enabled model tests since it takes relatively long to download huge models weights from manifold. We would rely on Open-source signals when making changes to model implementation, and we need to ensure the any update in weights on AWS cloud is also replicated on manifold.\n",
      "\n",
      "Reviewed By: hudeven\n",
      "\n",
      "Differential Revision: D31844166\n",
      "\n",
      "fbshipit-source-id: 62a4e9a3a8580ab93c3beb3af69be7361f1cc937\n",
      "\n",
      "* enabling SST2 dataset usage in fbcode\n",
      "\n",
      "Summary:\n",
      "Enable access to open-source torchtext SST2 dataset by:\n",
      "- Uploading SST2 dataset on manifold\n",
      "- Swapping public URL with manifold URL in fbcode by implementing a dummy `HTTPReader` wrapper class\n",
      "   - The wrapper class does URL mapping and calls `IoPathFileLoaderDataPipe` on the manifold URL\n",
      "- Enabled SST2Dataset unit tests within fbcode\n",
      "\n",
      "Reviewed By: parmeet\n",
      "\n",
      "Differential Revision: D31876606\n",
      "\n",
      "fbshipit-source-id: fdde14a67cce835da216b296e1a0024e1d1fc7a9\n",
      "\n",
      "* Fixed imoporting is_module_available\n",
      "\n",
      "Co-authored-by: Guanheng Zhang <zhangguanheng@devfair0197.h2.fair>\n",
      "Co-authored-by: Christian Puhrsch <cpuhrsch@devfair0129.h2.fair>\n",
      "Co-authored-by: cpuhrsch <cpuhrsch@fb.com>\n",
      "Co-authored-by: Moto Hira <moto@fb.com>\n",
      "Co-authored-by: George Guanheng Zhang <zhangguanheng@fb.com>\n",
      "Co-authored-by: Stanislau Hlebik <stash@fb.com>\n",
      "Co-authored-by: Andres Suarez <asuarez@fb.com>\n",
      "Co-authored-by: Meghan Lele <meghanl@fb.com>\n",
      "Co-authored-by: Brian Hirsh <hirsheybar@fb.com>\n",
      "Co-authored-by: Vasilis Vryniotis <vvryniotis@fb.com>\n",
      "Co-authored-by: Jeff Hwang <jeffhwang@fb.com>\n",
      "Co-authored-by: Parmeet Singh Bhatia <parmeetbhatia@fb.com>\n",
      "Co-authored-by: Artyom Astafurov <asta@fb.com>\n",
      "Co-authored-by: Nicolas Hug <nicolashug@fb.com>\n",
      "Co-authored-by: Heitor Schueroff <heitorschueroff@fb.com>\n",
      "Co-authored-by: Facebook Community Bot <facebook-github-bot@users.noreply.github.com>\n",
      "Co-authored-by: Philip Meier <github.pmeier@posteo.de>\n",
      "Co-authored-by: Vincent Quenneville-Belair <vincentqb@fb.com>\n",
      "Co-authored-by: Yao-Yuan Yang <yyyang@fb.com>\n",
      "Co-authored-by: nayef211 <n63ahmed@edu.uwaterloo.ca>\n"
     ]
    }
   ],
   "source": [
    "print(cleaned_data[cleaned_data['commit_message'].apply(lambda x: len(x)) == max(commit_msg_len)].iloc[0]['commit_message'])"
   ]
  },
  {
   "cell_type": "code",
   "execution_count": 26,
   "metadata": {
    "ExecuteTime": {
     "end_time": "2023-08-04T01:37:23.783457177Z",
     "start_time": "2023-08-04T01:37:23.738334955Z"
    },
    "collapsed": false,
    "jupyter": {
     "outputs_hidden": false
    }
   },
   "outputs": [],
   "source": [
    "# remove samples with to big commit messages\n",
    "commit_msg_len_boundary = np.percentile(commit_msg_len, 98)"
   ]
  },
  {
   "cell_type": "code",
   "execution_count": 27,
   "metadata": {
    "ExecuteTime": {
     "end_time": "2023-08-04T01:37:24.958769631Z",
     "start_time": "2023-08-04T01:37:24.944965194Z"
    },
    "collapsed": false,
    "jupyter": {
     "outputs_hidden": false
    }
   },
   "outputs": [
    {
     "data": {
      "text/plain": [
       "947.0"
      ]
     },
     "execution_count": 27,
     "metadata": {},
     "output_type": "execute_result"
    }
   ],
   "source": [
    "commit_msg_len_boundary"
   ]
  },
  {
   "cell_type": "code",
   "execution_count": 28,
   "metadata": {
    "ExecuteTime": {
     "end_time": "2023-08-04T01:37:26.562690643Z",
     "start_time": "2023-08-04T01:37:26.151061792Z"
    },
    "collapsed": false,
    "jupyter": {
     "outputs_hidden": false
    }
   },
   "outputs": [],
   "source": [
    "cleaned_data = cleaned_data[cleaned_data['commit_message'].apply(lambda x: len(x)) <= commit_msg_len_boundary]"
   ]
  },
  {
   "cell_type": "code",
   "execution_count": 29,
   "metadata": {
    "ExecuteTime": {
     "end_time": "2023-08-04T01:37:26.661032196Z",
     "start_time": "2023-08-04T01:37:26.596731955Z"
    },
    "collapsed": false,
    "jupyter": {
     "outputs_hidden": false
    }
   },
   "outputs": [
    {
     "data": {
      "text/plain": [
       "(941815, 5)"
      ]
     },
     "execution_count": 29,
     "metadata": {},
     "output_type": "execute_result"
    }
   ],
   "source": [
    "cleaned_data.shape"
   ]
  },
  {
   "cell_type": "code",
   "execution_count": 30,
   "metadata": {
    "ExecuteTime": {
     "end_time": "2023-08-04T01:37:27.377194304Z",
     "start_time": "2023-08-04T01:37:27.356173978Z"
    },
    "collapsed": false,
    "jupyter": {
     "outputs_hidden": false
    }
   },
   "outputs": [],
   "source": [
    "def print_data_sample(n):\n",
    "    print(cleaned_data.iloc[n].commit_changes)\n",
    "    print('-------------------------------------')\n",
    "    print(cleaned_data.iloc[n].commit_message)\n",
    "    print('-------------------------------------')\n",
    "    print(cleaned_data.iloc[n].repo_name)\n",
    "    print(cleaned_data.iloc[n].files_changed)"
   ]
  },
  {
   "cell_type": "code",
   "execution_count": 31,
   "metadata": {
    "ExecuteTime": {
     "end_time": "2023-08-04T01:38:02.129929335Z",
     "start_time": "2023-08-04T01:37:38.875919500Z"
    },
    "collapsed": false,
    "jupyter": {
     "outputs_hidden": false
    }
   },
   "outputs": [],
   "source": [
    "non_ascii = re.compile(r'[^\\x00-\\x7F]+')\n",
    "\n",
    "#samples with non-ascii characters\n",
    "non_ascii_data = cleaned_data[cleaned_data['commit_changes'].str.contains(non_ascii)]"
   ]
  },
  {
   "cell_type": "code",
   "execution_count": 32,
   "metadata": {
    "ExecuteTime": {
     "end_time": "2023-08-04T01:38:24.661822665Z",
     "start_time": "2023-08-04T01:38:24.622858949Z"
    },
    "collapsed": false,
    "jupyter": {
     "outputs_hidden": false
    }
   },
   "outputs": [
    {
     "data": {
      "text/plain": [
       "(61762, 5)"
      ]
     },
     "execution_count": 32,
     "metadata": {},
     "output_type": "execute_result"
    }
   ],
   "source": [
    "non_ascii_data.shape"
   ]
  },
  {
   "cell_type": "code",
   "execution_count": 33,
   "metadata": {
    "ExecuteTime": {
     "end_time": "2023-08-04T01:38:29.627233432Z",
     "start_time": "2023-08-04T01:38:29.384215910Z"
    },
    "collapsed": false,
    "jupyter": {
     "outputs_hidden": false
    }
   },
   "outputs": [],
   "source": [
    "#remove samples with non-ascii characters\n",
    "cleaned_data = cleaned_data.drop(non_ascii_data.index)"
   ]
  },
  {
   "cell_type": "code",
   "execution_count": 34,
   "metadata": {
    "ExecuteTime": {
     "end_time": "2023-08-04T01:38:30.980790629Z",
     "start_time": "2023-08-04T01:38:30.968575629Z"
    },
    "collapsed": false,
    "jupyter": {
     "outputs_hidden": false
    }
   },
   "outputs": [
    {
     "data": {
      "text/plain": [
       "(880053, 5)"
      ]
     },
     "execution_count": 34,
     "metadata": {},
     "output_type": "execute_result"
    }
   ],
   "source": [
    "cleaned_data.shape"
   ]
  },
  {
   "cell_type": "code",
   "execution_count": 35,
   "metadata": {
    "ExecuteTime": {
     "end_time": "2023-08-04T01:38:35.631357439Z",
     "start_time": "2023-08-04T01:38:35.612376937Z"
    },
    "collapsed": false,
    "jupyter": {
     "outputs_hidden": false
    }
   },
   "outputs": [],
   "source": [
    "# cleaned_data.to_pickle('commits_cleaned.pickle')"
   ]
  },
  {
   "cell_type": "code",
   "execution_count": 36,
   "metadata": {
    "ExecuteTime": {
     "end_time": "2023-08-04T01:38:39.851366874Z",
     "start_time": "2023-08-04T01:38:39.830607223Z"
    },
    "collapsed": false,
    "jupyter": {
     "outputs_hidden": false
    }
   },
   "outputs": [
    {
     "data": {
      "text/plain": [
       "repo_name         0\n",
       "commit_message    0\n",
       "files_changed     0\n",
       "commit_changes    0\n",
       "hash              0\n",
       "dtype: int64"
      ]
     },
     "execution_count": 36,
     "metadata": {},
     "output_type": "execute_result"
    }
   ],
   "source": [
    "cleaned_data.isna().sum()"
   ]
  },
  {
   "cell_type": "code",
   "execution_count": 37,
   "metadata": {},
   "outputs": [],
   "source": [
    "cleaned_data.reset_index(inplace=True)"
   ]
  },
  {
   "cell_type": "code",
   "execution_count": 38,
   "metadata": {},
   "outputs": [
    {
     "data": {
      "text/html": [
       "<div>\n",
       "<style scoped>\n",
       "    .dataframe tbody tr th:only-of-type {\n",
       "        vertical-align: middle;\n",
       "    }\n",
       "\n",
       "    .dataframe tbody tr th {\n",
       "        vertical-align: top;\n",
       "    }\n",
       "\n",
       "    .dataframe thead th {\n",
       "        text-align: right;\n",
       "    }\n",
       "</style>\n",
       "<table border=\"1\" class=\"dataframe\">\n",
       "  <thead>\n",
       "    <tr style=\"text-align: right;\">\n",
       "      <th></th>\n",
       "      <th>index</th>\n",
       "      <th>repo_name</th>\n",
       "      <th>commit_message</th>\n",
       "      <th>files_changed</th>\n",
       "      <th>commit_changes</th>\n",
       "      <th>hash</th>\n",
       "    </tr>\n",
       "  </thead>\n",
       "  <tbody>\n",
       "    <tr>\n",
       "      <th>0</th>\n",
       "      <td>1</td>\n",
       "      <td>pandora</td>\n",
       "      <td>Add the missing Docker env: PANDORA_THREADS\\n\\...</td>\n",
       "      <td>bin/startup.sh</td>\n",
       "      <td>a/bin/startup.sh b/bin/startup.sh\\nindex c6eb...</td>\n",
       "      <td>f33d09288498be4921e244d674845170967053b9</td>\n",
       "    </tr>\n",
       "    <tr>\n",
       "      <th>1</th>\n",
       "      <td>3</td>\n",
       "      <td>pandora</td>\n",
       "      <td>Add the missing Docker env: PANDORA_THREADS\\n\\...</td>\n",
       "      <td>doc/wiki_en.md</td>\n",
       "      <td>a/doc/wiki_en.md b/doc/wiki_en.md\\nindex 2f93...</td>\n",
       "      <td>f33d09288498be4921e244d674845170967053b9</td>\n",
       "    </tr>\n",
       "    <tr>\n",
       "      <th>2</th>\n",
       "      <td>4</td>\n",
       "      <td>pandora</td>\n",
       "      <td>Add the missing Docker env: PANDORA_THREADS\\n\\...</td>\n",
       "      <td>src/pandora/__init__.py</td>\n",
       "      <td>a/src/pandora/__init__.py b/src/pandora/__ini...</td>\n",
       "      <td>f33d09288498be4921e244d674845170967053b9</td>\n",
       "    </tr>\n",
       "    <tr>\n",
       "      <th>3</th>\n",
       "      <td>5</td>\n",
       "      <td>pandora</td>\n",
       "      <td>fix max_tokens\\n\\nSigned-off-by: pengzhile &lt;pe...</td>\n",
       "      <td>src/pandora/__init__.py</td>\n",
       "      <td>a/src/pandora/__init__.py b/src/pandora/__ini...</td>\n",
       "      <td>d31333bd79111564c4bb629451448ce685232b1e</td>\n",
       "    </tr>\n",
       "    <tr>\n",
       "      <th>4</th>\n",
       "      <td>6</td>\n",
       "      <td>pandora</td>\n",
       "      <td>fix max_tokens\\n\\nSigned-off-by: pengzhile &lt;pe...</td>\n",
       "      <td>src/pandora/turbo/chat.py</td>\n",
       "      <td>a/src/pandora/turbo/chat.py b/src/pandora/tur...</td>\n",
       "      <td>d31333bd79111564c4bb629451448ce685232b1e</td>\n",
       "    </tr>\n",
       "  </tbody>\n",
       "</table>\n",
       "</div>"
      ],
      "text/plain": [
       "   index repo_name                                     commit_message  \\\n",
       "0      1   pandora  Add the missing Docker env: PANDORA_THREADS\\n\\...   \n",
       "1      3   pandora  Add the missing Docker env: PANDORA_THREADS\\n\\...   \n",
       "2      4   pandora  Add the missing Docker env: PANDORA_THREADS\\n\\...   \n",
       "3      5   pandora  fix max_tokens\\n\\nSigned-off-by: pengzhile <pe...   \n",
       "4      6   pandora  fix max_tokens\\n\\nSigned-off-by: pengzhile <pe...   \n",
       "\n",
       "               files_changed  \\\n",
       "0             bin/startup.sh   \n",
       "1             doc/wiki_en.md   \n",
       "2    src/pandora/__init__.py   \n",
       "3    src/pandora/__init__.py   \n",
       "4  src/pandora/turbo/chat.py   \n",
       "\n",
       "                                      commit_changes  \\\n",
       "0   a/bin/startup.sh b/bin/startup.sh\\nindex c6eb...   \n",
       "1   a/doc/wiki_en.md b/doc/wiki_en.md\\nindex 2f93...   \n",
       "2   a/src/pandora/__init__.py b/src/pandora/__ini...   \n",
       "3   a/src/pandora/__init__.py b/src/pandora/__ini...   \n",
       "4   a/src/pandora/turbo/chat.py b/src/pandora/tur...   \n",
       "\n",
       "                                       hash  \n",
       "0  f33d09288498be4921e244d674845170967053b9  \n",
       "1  f33d09288498be4921e244d674845170967053b9  \n",
       "2  f33d09288498be4921e244d674845170967053b9  \n",
       "3  d31333bd79111564c4bb629451448ce685232b1e  \n",
       "4  d31333bd79111564c4bb629451448ce685232b1e  "
      ]
     },
     "execution_count": 38,
     "metadata": {},
     "output_type": "execute_result"
    }
   ],
   "source": [
    "cleaned_data.head()"
   ]
  },
  {
   "cell_type": "code",
   "execution_count": 39,
   "metadata": {
    "ExecuteTime": {
     "end_time": "2023-08-04T01:39:16.973545156Z",
     "start_time": "2023-08-04T01:38:46.621396340Z"
    },
    "collapsed": false,
    "jupyter": {
     "outputs_hidden": false
    }
   },
   "outputs": [],
   "source": [
    "cleaned_data.to_csv('../data/prepared/commits_cleaned_v4.csv')"
   ]
  },
  {
   "cell_type": "markdown",
   "metadata": {
    "collapsed": false,
    "jupyter": {
     "outputs_hidden": false
    }
   },
   "source": [
    "## Group data samples from the same commit"
   ]
  },
  {
   "cell_type": "code",
   "execution_count": 47,
   "metadata": {
    "ExecuteTime": {
     "end_time": "2023-08-04T01:40:04.165503196Z",
     "start_time": "2023-08-04T01:39:51.602059863Z"
    },
    "collapsed": false,
    "jupyter": {
     "outputs_hidden": false
    }
   },
   "outputs": [
    {
     "data": {
      "text/plain": [
       "(880053, 6)"
      ]
     },
     "execution_count": 47,
     "metadata": {},
     "output_type": "execute_result"
    }
   ],
   "source": [
    "data = pd.read_csv('../data/prepared/commits_cleaned_v4.csv', index_col=0)\n",
    "data.shape"
   ]
  },
  {
   "cell_type": "code",
   "execution_count": 48,
   "metadata": {},
   "outputs": [
    {
     "data": {
      "text/html": [
       "<div>\n",
       "<style scoped>\n",
       "    .dataframe tbody tr th:only-of-type {\n",
       "        vertical-align: middle;\n",
       "    }\n",
       "\n",
       "    .dataframe tbody tr th {\n",
       "        vertical-align: top;\n",
       "    }\n",
       "\n",
       "    .dataframe thead th {\n",
       "        text-align: right;\n",
       "    }\n",
       "</style>\n",
       "<table border=\"1\" class=\"dataframe\">\n",
       "  <thead>\n",
       "    <tr style=\"text-align: right;\">\n",
       "      <th></th>\n",
       "      <th>index</th>\n",
       "      <th>repo_name</th>\n",
       "      <th>commit_message</th>\n",
       "      <th>files_changed</th>\n",
       "      <th>commit_changes</th>\n",
       "      <th>hash</th>\n",
       "    </tr>\n",
       "  </thead>\n",
       "  <tbody>\n",
       "    <tr>\n",
       "      <th>0</th>\n",
       "      <td>1</td>\n",
       "      <td>pandora</td>\n",
       "      <td>Add the missing Docker env: PANDORA_THREADS\\n\\...</td>\n",
       "      <td>bin/startup.sh</td>\n",
       "      <td>a/bin/startup.sh b/bin/startup.sh\\nindex c6eb...</td>\n",
       "      <td>f33d09288498be4921e244d674845170967053b9</td>\n",
       "    </tr>\n",
       "    <tr>\n",
       "      <th>1</th>\n",
       "      <td>3</td>\n",
       "      <td>pandora</td>\n",
       "      <td>Add the missing Docker env: PANDORA_THREADS\\n\\...</td>\n",
       "      <td>doc/wiki_en.md</td>\n",
       "      <td>a/doc/wiki_en.md b/doc/wiki_en.md\\nindex 2f93...</td>\n",
       "      <td>f33d09288498be4921e244d674845170967053b9</td>\n",
       "    </tr>\n",
       "    <tr>\n",
       "      <th>2</th>\n",
       "      <td>4</td>\n",
       "      <td>pandora</td>\n",
       "      <td>Add the missing Docker env: PANDORA_THREADS\\n\\...</td>\n",
       "      <td>src/pandora/__init__.py</td>\n",
       "      <td>a/src/pandora/__init__.py b/src/pandora/__ini...</td>\n",
       "      <td>f33d09288498be4921e244d674845170967053b9</td>\n",
       "    </tr>\n",
       "    <tr>\n",
       "      <th>3</th>\n",
       "      <td>5</td>\n",
       "      <td>pandora</td>\n",
       "      <td>fix max_tokens\\n\\nSigned-off-by: pengzhile &lt;pe...</td>\n",
       "      <td>src/pandora/__init__.py</td>\n",
       "      <td>a/src/pandora/__init__.py b/src/pandora/__ini...</td>\n",
       "      <td>d31333bd79111564c4bb629451448ce685232b1e</td>\n",
       "    </tr>\n",
       "    <tr>\n",
       "      <th>4</th>\n",
       "      <td>6</td>\n",
       "      <td>pandora</td>\n",
       "      <td>fix max_tokens\\n\\nSigned-off-by: pengzhile &lt;pe...</td>\n",
       "      <td>src/pandora/turbo/chat.py</td>\n",
       "      <td>a/src/pandora/turbo/chat.py b/src/pandora/tur...</td>\n",
       "      <td>d31333bd79111564c4bb629451448ce685232b1e</td>\n",
       "    </tr>\n",
       "  </tbody>\n",
       "</table>\n",
       "</div>"
      ],
      "text/plain": [
       "   index repo_name                                     commit_message  \\\n",
       "0      1   pandora  Add the missing Docker env: PANDORA_THREADS\\n\\...   \n",
       "1      3   pandora  Add the missing Docker env: PANDORA_THREADS\\n\\...   \n",
       "2      4   pandora  Add the missing Docker env: PANDORA_THREADS\\n\\...   \n",
       "3      5   pandora  fix max_tokens\\n\\nSigned-off-by: pengzhile <pe...   \n",
       "4      6   pandora  fix max_tokens\\n\\nSigned-off-by: pengzhile <pe...   \n",
       "\n",
       "               files_changed  \\\n",
       "0             bin/startup.sh   \n",
       "1             doc/wiki_en.md   \n",
       "2    src/pandora/__init__.py   \n",
       "3    src/pandora/__init__.py   \n",
       "4  src/pandora/turbo/chat.py   \n",
       "\n",
       "                                      commit_changes  \\\n",
       "0   a/bin/startup.sh b/bin/startup.sh\\nindex c6eb...   \n",
       "1   a/doc/wiki_en.md b/doc/wiki_en.md\\nindex 2f93...   \n",
       "2   a/src/pandora/__init__.py b/src/pandora/__ini...   \n",
       "3   a/src/pandora/__init__.py b/src/pandora/__ini...   \n",
       "4   a/src/pandora/turbo/chat.py b/src/pandora/tur...   \n",
       "\n",
       "                                       hash  \n",
       "0  f33d09288498be4921e244d674845170967053b9  \n",
       "1  f33d09288498be4921e244d674845170967053b9  \n",
       "2  f33d09288498be4921e244d674845170967053b9  \n",
       "3  d31333bd79111564c4bb629451448ce685232b1e  \n",
       "4  d31333bd79111564c4bb629451448ce685232b1e  "
      ]
     },
     "execution_count": 48,
     "metadata": {},
     "output_type": "execute_result"
    }
   ],
   "source": [
    "data.head()"
   ]
  },
  {
   "cell_type": "code",
   "execution_count": 49,
   "metadata": {
    "ExecuteTime": {
     "end_time": "2023-08-04T01:40:18.471679740Z",
     "start_time": "2023-08-04T01:40:17.751709468Z"
    },
    "collapsed": false,
    "jupyter": {
     "outputs_hidden": false
    }
   },
   "outputs": [],
   "source": [
    "data['file_extension'] = data['files_changed'].apply(lambda x: x.split('.')[-1])"
   ]
  },
  {
   "cell_type": "code",
   "execution_count": 50,
   "metadata": {
    "ExecuteTime": {
     "end_time": "2023-08-04T01:40:19.591674770Z",
     "start_time": "2023-08-04T01:40:19.375014983Z"
    },
    "collapsed": false,
    "jupyter": {
     "outputs_hidden": false
    }
   },
   "outputs": [],
   "source": [
    "data = data[data['file_extension'] == 'py']"
   ]
  },
  {
   "cell_type": "code",
   "execution_count": 56,
   "metadata": {
    "ExecuteTime": {
     "end_time": "2023-08-04T01:40:30.687179272Z",
     "start_time": "2023-08-04T01:40:19.772039807Z"
    },
    "collapsed": false,
    "jupyter": {
     "outputs_hidden": false
    }
   },
   "outputs": [],
   "source": [
    "grouped_data = data.groupby(['repo_name', 'commit_message', 'hash']).apply(lambda x: x['commit_changes'].tolist()).reset_index(\n",
    "    name='commit_changes')"
   ]
  },
  {
   "cell_type": "code",
   "execution_count": 57,
   "metadata": {
    "ExecuteTime": {
     "end_time": "2023-08-04T01:40:30.751783437Z",
     "start_time": "2023-08-04T01:40:30.699623292Z"
    },
    "collapsed": false,
    "jupyter": {
     "outputs_hidden": false
    }
   },
   "outputs": [],
   "source": [
    "grouped_data['files_changed'] = grouped_data['commit_changes'].apply(lambda x: len(x))"
   ]
  },
  {
   "cell_type": "code",
   "execution_count": 58,
   "metadata": {
    "ExecuteTime": {
     "end_time": "2023-08-04T01:40:30.930350808Z",
     "start_time": "2023-08-04T01:40:30.762050899Z"
    },
    "collapsed": false,
    "jupyter": {
     "outputs_hidden": false
    }
   },
   "outputs": [],
   "source": [
    "grouped_data['changes_len'] = grouped_data['commit_changes'].apply(lambda x: sum(map(len, x)))"
   ]
  },
  {
   "cell_type": "code",
   "execution_count": 59,
   "metadata": {
    "ExecuteTime": {
     "end_time": "2023-08-04T01:40:30.940360125Z",
     "start_time": "2023-08-04T01:40:30.933458390Z"
    },
    "collapsed": false,
    "jupyter": {
     "outputs_hidden": false
    }
   },
   "outputs": [
    {
     "data": {
      "text/html": [
       "<div>\n",
       "<style scoped>\n",
       "    .dataframe tbody tr th:only-of-type {\n",
       "        vertical-align: middle;\n",
       "    }\n",
       "\n",
       "    .dataframe tbody tr th {\n",
       "        vertical-align: top;\n",
       "    }\n",
       "\n",
       "    .dataframe thead th {\n",
       "        text-align: right;\n",
       "    }\n",
       "</style>\n",
       "<table border=\"1\" class=\"dataframe\">\n",
       "  <thead>\n",
       "    <tr style=\"text-align: right;\">\n",
       "      <th></th>\n",
       "      <th>repo_name</th>\n",
       "      <th>commit_message</th>\n",
       "      <th>hash</th>\n",
       "      <th>commit_changes</th>\n",
       "      <th>files_changed</th>\n",
       "      <th>changes_len</th>\n",
       "    </tr>\n",
       "  </thead>\n",
       "  <tbody>\n",
       "    <tr>\n",
       "      <th>0</th>\n",
       "      <td>3d-photo-inpainting</td>\n",
       "      <td>About 30% faster now\\n</td>\n",
       "      <td>8769236a2a81ca776505f66733bc64a9b1c6d401</td>\n",
       "      <td>[ a/main.py b/main.py\\nindex a6656b2..d4272bd ...</td>\n",
       "      <td>2</td>\n",
       "      <td>2120</td>\n",
       "    </tr>\n",
       "    <tr>\n",
       "      <th>1</th>\n",
       "      <td>3d-photo-inpainting</td>\n",
       "      <td>Add config: 'offscreen_rendering', 'traj_types...</td>\n",
       "      <td>58b32fb304e3f4aa5c3299819378c82a959536ef</td>\n",
       "      <td>[ a/main.py b/main.py\\nindex 5a5a90a..95b56db ...</td>\n",
       "      <td>2</td>\n",
       "      <td>5063</td>\n",
       "    </tr>\n",
       "    <tr>\n",
       "      <th>2</th>\n",
       "      <td>3d-photo-inpainting</td>\n",
       "      <td>Add dolly-zoom effect.\\n</td>\n",
       "      <td>3b6dc02f14076647bcb0db16c8522d9201ae3ee0</td>\n",
       "      <td>[ a/main.py b/main.py\\nindex c50d327..c83145b ...</td>\n",
       "      <td>3</td>\n",
       "      <td>5891</td>\n",
       "    </tr>\n",
       "    <tr>\n",
       "      <th>3</th>\n",
       "      <td>3d-photo-inpainting</td>\n",
       "      <td>Add package time in main.py.\\n</td>\n",
       "      <td>86ce0af5280f927b5a7967d8aa645f871ebc0387</td>\n",
       "      <td>[ a/main.py b/main.py\\nindex e91085e..f779dbd ...</td>\n",
       "      <td>1</td>\n",
       "      <td>305</td>\n",
       "    </tr>\n",
       "    <tr>\n",
       "      <th>4</th>\n",
       "      <td>3d-photo-inpainting</td>\n",
       "      <td>Additional changes\\n</td>\n",
       "      <td>fe521227a19fc38b9983485ff0d5e1038818abca</td>\n",
       "      <td>[ a/mesh.py b/mesh.py\\nindex f29e723..1056511 ...</td>\n",
       "      <td>1</td>\n",
       "      <td>3646</td>\n",
       "    </tr>\n",
       "  </tbody>\n",
       "</table>\n",
       "</div>"
      ],
      "text/plain": [
       "             repo_name                                     commit_message  \\\n",
       "0  3d-photo-inpainting                             About 30% faster now\\n   \n",
       "1  3d-photo-inpainting  Add config: 'offscreen_rendering', 'traj_types...   \n",
       "2  3d-photo-inpainting                           Add dolly-zoom effect.\\n   \n",
       "3  3d-photo-inpainting                     Add package time in main.py.\\n   \n",
       "4  3d-photo-inpainting                               Additional changes\\n   \n",
       "\n",
       "                                       hash  \\\n",
       "0  8769236a2a81ca776505f66733bc64a9b1c6d401   \n",
       "1  58b32fb304e3f4aa5c3299819378c82a959536ef   \n",
       "2  3b6dc02f14076647bcb0db16c8522d9201ae3ee0   \n",
       "3  86ce0af5280f927b5a7967d8aa645f871ebc0387   \n",
       "4  fe521227a19fc38b9983485ff0d5e1038818abca   \n",
       "\n",
       "                                      commit_changes  files_changed  \\\n",
       "0  [ a/main.py b/main.py\\nindex a6656b2..d4272bd ...              2   \n",
       "1  [ a/main.py b/main.py\\nindex 5a5a90a..95b56db ...              2   \n",
       "2  [ a/main.py b/main.py\\nindex c50d327..c83145b ...              3   \n",
       "3  [ a/main.py b/main.py\\nindex e91085e..f779dbd ...              1   \n",
       "4  [ a/mesh.py b/mesh.py\\nindex f29e723..1056511 ...              1   \n",
       "\n",
       "   changes_len  \n",
       "0         2120  \n",
       "1         5063  \n",
       "2         5891  \n",
       "3          305  \n",
       "4         3646  "
      ]
     },
     "execution_count": 59,
     "metadata": {},
     "output_type": "execute_result"
    }
   ],
   "source": [
    "grouped_data.head()"
   ]
  },
  {
   "cell_type": "code",
   "execution_count": 61,
   "metadata": {
    "ExecuteTime": {
     "end_time": "2023-08-04T01:40:30.949998709Z",
     "start_time": "2023-08-04T01:40:30.946613705Z"
    },
    "collapsed": false,
    "jupyter": {
     "outputs_hidden": false
    }
   },
   "outputs": [
    {
     "data": {
      "text/plain": [
       "(185690, 6)"
      ]
     },
     "execution_count": 61,
     "metadata": {},
     "output_type": "execute_result"
    }
   ],
   "source": [
    "grouped_data.shape"
   ]
  },
  {
   "cell_type": "code",
   "execution_count": 62,
   "metadata": {
    "ExecuteTime": {
     "end_time": "2023-08-04T01:40:30.993779913Z",
     "start_time": "2023-08-04T01:40:30.953014656Z"
    },
    "collapsed": false,
    "jupyter": {
     "outputs_hidden": false
    }
   },
   "outputs": [
    {
     "name": "stdout",
     "output_type": "stream",
     "text": [
      "mean length of changes 3880.716613711024\n",
      "max length of changes 222407\n",
      "min length of changes 52\n"
     ]
    }
   ],
   "source": [
    "#mean len of changes\n",
    "print(f'mean length of changes {grouped_data[\"changes_len\"].mean()}')\n",
    "print(f'max length of changes {grouped_data[\"changes_len\"].max()}')\n",
    "print(f'min length of changes {grouped_data[\"changes_len\"].min()}')"
   ]
  },
  {
   "cell_type": "code",
   "execution_count": 63,
   "metadata": {
    "ExecuteTime": {
     "end_time": "2023-08-04T01:40:31.028838749Z",
     "start_time": "2023-08-04T01:40:30.962638572Z"
    },
    "collapsed": false,
    "jupyter": {
     "outputs_hidden": false
    }
   },
   "outputs": [],
   "source": [
    "changes_80_percentile = np.percentile(grouped_data['changes_len'], 80)\n",
    "grouped_data = grouped_data[grouped_data['changes_len'] < changes_80_percentile]"
   ]
  },
  {
   "cell_type": "code",
   "execution_count": 64,
   "metadata": {
    "ExecuteTime": {
     "end_time": "2023-08-04T01:40:31.333135842Z",
     "start_time": "2023-08-04T01:40:30.993440190Z"
    },
    "collapsed": false,
    "jupyter": {
     "outputs_hidden": false
    }
   },
   "outputs": [
    {
     "data": {
      "image/png": "[encoded data removed]",
      "text/plain": [
       "<Figure size 640x480 with 1 Axes>"
      ]
     },
     "metadata": {},
     "output_type": "display_data"
    }
   ],
   "source": [
    "sns.histplot(grouped_data['changes_len'], bins=100)\n",
    "plt.show()"
   ]
  },
  {
   "cell_type": "code",
   "execution_count": 66,
   "metadata": {
    "ExecuteTime": {
     "end_time": "2023-08-04T01:40:31.677509665Z",
     "start_time": "2023-08-04T01:40:31.332222418Z"
    },
    "collapsed": false,
    "jupyter": {
     "outputs_hidden": false
    }
   },
   "outputs": [
    {
     "data": {
      "image/png": "[encoded data removed]",
      "text/plain": [
       "<Figure size 640x480 with 1 Axes>"
      ]
     },
     "metadata": {},
     "output_type": "display_data"
    }
   ],
   "source": [
    "sns.histplot(grouped_data['files_changed'], bins=100)\n",
    "plt.show()"
   ]
  },
  {
   "cell_type": "code",
   "execution_count": 67,
   "metadata": {
    "ExecuteTime": {
     "end_time": "2023-08-04T01:40:31.678159636Z",
     "start_time": "2023-08-04T01:40:31.675994951Z"
    },
    "collapsed": false,
    "jupyter": {
     "outputs_hidden": false
    }
   },
   "outputs": [
    {
     "data": {
      "text/plain": [
       "(43, 1, 1.5018512534668929)"
      ]
     },
     "execution_count": 67,
     "metadata": {},
     "output_type": "execute_result"
    }
   ],
   "source": [
    "grouped_data['files_changed'].max(), grouped_data['files_changed'].min(), grouped_data['files_changed'].mean()"
   ]
  },
  {
   "cell_type": "code",
   "execution_count": 68,
   "metadata": {
    "ExecuteTime": {
     "end_time": "2023-08-04T01:40:31.698275493Z",
     "start_time": "2023-08-04T01:40:31.681711358Z"
    },
    "collapsed": false,
    "jupyter": {
     "outputs_hidden": false
    }
   },
   "outputs": [
    {
     "data": {
      "text/html": [
       "<div>\n",
       "<style scoped>\n",
       "    .dataframe tbody tr th:only-of-type {\n",
       "        vertical-align: middle;\n",
       "    }\n",
       "\n",
       "    .dataframe tbody tr th {\n",
       "        vertical-align: top;\n",
       "    }\n",
       "\n",
       "    .dataframe thead th {\n",
       "        text-align: right;\n",
       "    }\n",
       "</style>\n",
       "<table border=\"1\" class=\"dataframe\">\n",
       "  <thead>\n",
       "    <tr style=\"text-align: right;\">\n",
       "      <th></th>\n",
       "      <th>repo_name</th>\n",
       "      <th>commit_message</th>\n",
       "      <th>hash</th>\n",
       "      <th>commit_changes</th>\n",
       "      <th>files_changed</th>\n",
       "      <th>changes_len</th>\n",
       "    </tr>\n",
       "  </thead>\n",
       "  <tbody>\n",
       "    <tr>\n",
       "      <th>0</th>\n",
       "      <td>3d-photo-inpainting</td>\n",
       "      <td>About 30% faster now\\n</td>\n",
       "      <td>8769236a2a81ca776505f66733bc64a9b1c6d401</td>\n",
       "      <td>[ a/main.py b/main.py\\nindex a6656b2..d4272bd ...</td>\n",
       "      <td>2</td>\n",
       "      <td>2120</td>\n",
       "    </tr>\n",
       "    <tr>\n",
       "      <th>3</th>\n",
       "      <td>3d-photo-inpainting</td>\n",
       "      <td>Add package time in main.py.\\n</td>\n",
       "      <td>86ce0af5280f927b5a7967d8aa645f871ebc0387</td>\n",
       "      <td>[ a/main.py b/main.py\\nindex e91085e..f779dbd ...</td>\n",
       "      <td>1</td>\n",
       "      <td>305</td>\n",
       "    </tr>\n",
       "    <tr>\n",
       "      <th>4</th>\n",
       "      <td>3d-photo-inpainting</td>\n",
       "      <td>Additional changes\\n</td>\n",
       "      <td>fe521227a19fc38b9983485ff0d5e1038818abca</td>\n",
       "      <td>[ a/mesh.py b/mesh.py\\nindex f29e723..1056511 ...</td>\n",
       "      <td>1</td>\n",
       "      <td>3646</td>\n",
       "    </tr>\n",
       "    <tr>\n",
       "      <th>6</th>\n",
       "      <td>3d-photo-inpainting</td>\n",
       "      <td>Edit mesh.py to accel.\\n</td>\n",
       "      <td>4c7049d0a09268703774dfba70ab469af6cf2922</td>\n",
       "      <td>[ a/mesh.py b/mesh.py\\nindex 702323b..725904d ...</td>\n",
       "      <td>1</td>\n",
       "      <td>530</td>\n",
       "    </tr>\n",
       "    <tr>\n",
       "      <th>7</th>\n",
       "      <td>3d-photo-inpainting</td>\n",
       "      <td>Edit mesh_tools.py, mesh.py, utils.py to accel.\\n</td>\n",
       "      <td>5917dcd828787ca4856f1a700c18788d67bdeccd</td>\n",
       "      <td>[ a/mesh_tools.py b/mesh_tools.py\\nindex 0d363...</td>\n",
       "      <td>2</td>\n",
       "      <td>4804</td>\n",
       "    </tr>\n",
       "  </tbody>\n",
       "</table>\n",
       "</div>"
      ],
      "text/plain": [
       "             repo_name                                     commit_message  \\\n",
       "0  3d-photo-inpainting                             About 30% faster now\\n   \n",
       "3  3d-photo-inpainting                     Add package time in main.py.\\n   \n",
       "4  3d-photo-inpainting                               Additional changes\\n   \n",
       "6  3d-photo-inpainting                           Edit mesh.py to accel.\\n   \n",
       "7  3d-photo-inpainting  Edit mesh_tools.py, mesh.py, utils.py to accel.\\n   \n",
       "\n",
       "                                       hash  \\\n",
       "0  8769236a2a81ca776505f66733bc64a9b1c6d401   \n",
       "3  86ce0af5280f927b5a7967d8aa645f871ebc0387   \n",
       "4  fe521227a19fc38b9983485ff0d5e1038818abca   \n",
       "6  4c7049d0a09268703774dfba70ab469af6cf2922   \n",
       "7  5917dcd828787ca4856f1a700c18788d67bdeccd   \n",
       "\n",
       "                                      commit_changes  files_changed  \\\n",
       "0  [ a/main.py b/main.py\\nindex a6656b2..d4272bd ...              2   \n",
       "3  [ a/main.py b/main.py\\nindex e91085e..f779dbd ...              1   \n",
       "4  [ a/mesh.py b/mesh.py\\nindex f29e723..1056511 ...              1   \n",
       "6  [ a/mesh.py b/mesh.py\\nindex 702323b..725904d ...              1   \n",
       "7  [ a/mesh_tools.py b/mesh_tools.py\\nindex 0d363...              2   \n",
       "\n",
       "   changes_len  \n",
       "0         2120  \n",
       "3          305  \n",
       "4         3646  \n",
       "6          530  \n",
       "7         4804  "
      ]
     },
     "execution_count": 68,
     "metadata": {},
     "output_type": "execute_result"
    }
   ],
   "source": [
    "grouped_data.head()"
   ]
  },
  {
   "cell_type": "code",
   "execution_count": 69,
   "metadata": {
    "ExecuteTime": {
     "end_time": "2023-08-04T01:40:31.699156509Z",
     "start_time": "2023-08-04T01:40:31.691316696Z"
    },
    "collapsed": false,
    "jupyter": {
     "outputs_hidden": false
    }
   },
   "outputs": [],
   "source": [
    "# a = grouped_data[(grouped_data['repo_name'] == '30-seconds-of-python') & (\n",
    "#             grouped_data['commit_message'] == 'Add excerpts where appropriate\\n')]['commit_changes'].iloc[0]\n",
    "# for e in a:\n",
    "#     print(e)\n",
    "#     print('-'*30)"
   ]
  },
  {
   "cell_type": "code",
   "execution_count": 74,
   "metadata": {
    "ExecuteTime": {
     "end_time": "2023-08-04T01:40:31.790660366Z",
     "start_time": "2023-08-04T01:40:31.741103949Z"
    },
    "collapsed": false,
    "jupyter": {
     "outputs_hidden": false
    }
   },
   "outputs": [
    {
     "data": {
      "text/plain": [
       "(148548, 6)"
      ]
     },
     "execution_count": 74,
     "metadata": {},
     "output_type": "execute_result"
    }
   ],
   "source": [
    "grouped_data.shape"
   ]
  },
  {
   "cell_type": "markdown",
   "metadata": {},
   "source": [
    "## Group samples with multiple files changed into 1 and add special tokens for training process"
   ]
  },
  {
   "cell_type": "code",
   "execution_count": 71,
   "metadata": {
    "ExecuteTime": {
     "end_time": "2023-08-04T01:40:58.878580201Z",
     "start_time": "2023-08-04T01:40:31.758129475Z"
    },
    "collapsed": false,
    "jupyter": {
     "outputs_hidden": false
    }
   },
   "outputs": [],
   "source": [
    "import pandas as pd\n",
    "import numpy as np\n",
    "\n",
    "data = pd.read_csv(\"../data/prepared/commits_cleaned_v4.csv\", index_col=0)\n",
    "data = data.dropna()\n",
    "\n",
    "data[\"file_extension\"] = data[\"files_changed\"].apply(lambda x: x.split(\".\")[-1])\n",
    "data = data[data[\"file_extension\"] == \"py\"]\n",
    "\n",
    "def group_data(dataframe):\n",
    "    grouped_data = (\n",
    "        dataframe.groupby([\"repo_name\", \"commit_message\", \"hash\"])\n",
    "        .apply(lambda x: x[\"commit_changes\"].tolist())\n",
    "        .reset_index(name=\"commit_changes\")\n",
    "    )\n",
    "    grouped_data[\"files_changed\"] = grouped_data[\"commit_changes\"].apply(\n",
    "        lambda x: len(x)\n",
    "    )\n",
    "    grouped_data[\"changes_len\"] = grouped_data[\"commit_changes\"].apply(\n",
    "        lambda x: sum(map(len, x))\n",
    "    )\n",
    "    changes_80_percentile = np.percentile(grouped_data[\"changes_len\"], 80)\n",
    "    grouped_data = grouped_data[grouped_data[\"changes_len\"] < changes_80_percentile]\n",
    "    return grouped_data\n",
    "\n",
    "data = group_data(data)\n",
    "def parse_file(file_changes):\n",
    "    row_separated_file = file_changes.split(\"\\n\")\n",
    "    # add filename token to the first line\n",
    "    row_separated_file[0] = \"<filename>\" + row_separated_file[0] + \"<filename>\"\n",
    "\n",
    "    #remove second line as it's an index of changes\n",
    "    # row_separated_file = [row_separated_file[0]] + row_separated_file[2:] #brokes structure of addition/deletion files commits\n",
    "\n",
    "    # add <code_add> token to the lines starting with +\n",
    "    row_separated_file = [\n",
    "        \"<code_add>\" + line + '<code_add>' if line.startswith(\"+\") else line\n",
    "        for line in row_separated_file\n",
    "    ]\n",
    "\n",
    "    # add <code_del> token to the lines starting with -\n",
    "    row_separated_file = [\n",
    "        \"<code_del>\" + line + '<code_del>' if line.startswith(\"-\") else line\n",
    "        for line in row_separated_file\n",
    "    ]\n",
    "\n",
    "    return \"\\n\".join(row_separated_file)\n",
    "\n",
    "\n",
    "def parse_files(files):\n",
    "    return \"\\n\\n\\n\".join([parse_file(file) for file in files]) + '<commit_msg>'\n",
    "\n",
    "\n",
    "def add_tokens_to_message(message):\n",
    "    return message + \"<commit_msg>\"\n",
    "\n",
    "data['commit_changes'] = data['commit_changes'].apply(parse_files)\n",
    "data['commit_message'] = data['commit_message'].apply(add_tokens_to_message)"
   ]
  },
  {
   "cell_type": "code",
   "execution_count": 72,
   "metadata": {
    "ExecuteTime": {
     "end_time": "2023-08-04T01:41:04.453871179Z",
     "start_time": "2023-08-04T01:41:04.447305964Z"
    },
    "collapsed": false,
    "jupyter": {
     "outputs_hidden": false
    }
   },
   "outputs": [
    {
     "data": {
      "text/plain": [
       "(148548, 6)"
      ]
     },
     "execution_count": 72,
     "metadata": {},
     "output_type": "execute_result"
    }
   ],
   "source": [
    "data.shape"
   ]
  },
  {
   "cell_type": "code",
   "execution_count": 75,
   "metadata": {
    "ExecuteTime": {
     "end_time": "2023-08-04T01:41:04.444137830Z",
     "start_time": "2023-08-04T01:40:58.891415753Z"
    },
    "collapsed": false,
    "jupyter": {
     "outputs_hidden": false
    }
   },
   "outputs": [],
   "source": [
    "data.to_csv('../data/prepared/commits_cleaned_v5.csv')"
   ]
  },
  {
   "cell_type": "markdown",
   "metadata": {
    "collapsed": false,
    "jupyter": {
     "outputs_hidden": false
    }
   },
   "source": [
    "## Dataset version with samples, containing only commits with single file changed"
   ]
  },
  {
   "cell_type": "code",
   "execution_count": 76,
   "metadata": {
    "ExecuteTime": {
     "end_time": "2023-08-04T01:43:00.762305381Z",
     "start_time": "2023-08-04T01:43:00.683950276Z"
    },
    "collapsed": false,
    "jupyter": {
     "outputs_hidden": false
    }
   },
   "outputs": [
    {
     "data": {
      "text/plain": [
       "(102135, 6)"
      ]
     },
     "execution_count": 76,
     "metadata": {},
     "output_type": "execute_result"
    }
   ],
   "source": [
    "single_files_data = data[data['files_changed'] == 1]\n",
    "single_files_data.shape"
   ]
  },
  {
   "cell_type": "code",
   "execution_count": 77,
   "metadata": {
    "ExecuteTime": {
     "end_time": "2023-08-04T01:43:39.092991672Z",
     "start_time": "2023-08-04T01:43:35.437487047Z"
    },
    "collapsed": false,
    "jupyter": {
     "outputs_hidden": false
    }
   },
   "outputs": [],
   "source": [
    "single_files_data.to_csv('../data/prepared/single_file_commits_v2.csv')"
   ]
  },
  {
   "cell_type": "code",
   "execution_count": null,
   "metadata": {},
   "outputs": [],
   "source": []
  }
 ],
 "metadata": {
  "kernelspec": {
   "display_name": "Python 3 (ipykernel)",
   "language": "python",
   "name": "python3"
  },
  "language_info": {
   "codemirror_mode": {
    "name": "ipython",
    "version": 3
   },
   "file_extension": ".py",
   "mimetype": "text/x-python",
   "name": "python",
   "nbconvert_exporter": "python",
   "pygments_lexer": "ipython3",
   "version": "3.11.4"
  }
 },
 "nbformat": 4,
 "nbformat_minor": 4
}
