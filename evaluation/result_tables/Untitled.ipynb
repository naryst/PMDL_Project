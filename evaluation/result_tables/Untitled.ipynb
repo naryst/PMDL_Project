{
 "cells": [
  {
   "cell_type": "code",
   "execution_count": 26,
   "id": "888f6f39-5385-451a-a1c2-eeac0dbe923a",
   "metadata": {},
   "outputs": [],
   "source": [
    "import pandas as pd\n",
    "\n",
    "my_res = pd.read_csv('BLEU_norm_results.csv')\n",
    "jb_res = pd.read_csv('JB_BLEU_norm_results.csv')\n",
    "jb_res.rename(columns={jb_res.columns[0]: 'Language'}, inplace=True)\n",
    "my_res.rename(columns={my_res.columns[0]: 'Language'}, inplace=True)"
   ]
  },
  {
   "cell_type": "code",
   "execution_count": 35,
   "id": "abdcd7ea-c616-4e8f-9546-f22ec7da53b0",
   "metadata": {},
   "outputs": [],
   "source": [
    "merged = pd.merge(my_res, jb_res, 'inner', on='Language', suffixes=(\"_Trained\", \"_JB\"))\n",
    "merged.to_csv('merged_results.csv')"
   ]
  }
 ],
 "metadata": {
  "kernelspec": {
   "display_name": "Python 3 (ipykernel)",
   "language": "python",
   "name": "python3"
  },
  "language_info": {
   "codemirror_mode": {
    "name": "ipython",
    "version": 3
   },
   "file_extension": ".py",
   "mimetype": "text/x-python",
   "name": "python",
   "nbconvert_exporter": "python",
   "pygments_lexer": "ipython3",
   "version": "3.8.10"
  }
 },
 "nbformat": 4,
 "nbformat_minor": 5
}
