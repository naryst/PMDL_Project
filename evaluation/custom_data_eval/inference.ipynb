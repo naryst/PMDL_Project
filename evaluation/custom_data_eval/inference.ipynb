{
 "cells": [
  {
   "cell_type": "code",
   "execution_count": 1,
   "id": "a9a9b784-4653-4cca-9ee1-2c2e456f7f21",
   "metadata": {},
   "outputs": [],
   "source": [
    "import os\n",
    "os.environ['CUDA_VISIBLE_DEVICES'] = \"0\""
   ]
  },
  {
   "cell_type": "code",
   "execution_count": 2,
   "id": "1d4d73c7-ddd6-4d98-a8c8-d79cccd5cd99",
   "metadata": {},
   "outputs": [],
   "source": [
    "import pandas as pd\n",
    "import torch\n",
    "import transformers\n",
    "from transformers import AutoTokenizer, AutoModelForSeq2SeqLM"
   ]
  },
  {
   "cell_type": "code",
   "execution_count": 3,
   "id": "85c0f898-f9d6-4c47-8df0-b7afc66eff52",
   "metadata": {},
   "outputs": [],
   "source": [
    "device = torch.device('cuda' if torch.cuda.is_available() else 'cpu')"
   ]
  },
  {
   "cell_type": "code",
   "execution_count": 4,
   "id": "b0e82ca8-f5a5-406d-9747-0ef8407b1cc8",
   "metadata": {},
   "outputs": [
    {
     "name": "stderr",
     "output_type": "stream",
     "text": [
      "Special tokens have been added in the vocabulary, make sure the associated word embeddings are fine-tuned or trained.\n"
     ]
    }
   ],
   "source": [
    "tokenizer = AutoTokenizer.from_pretrained(\"narySt/codeT5p_CommitMessageGen\")\n",
    "model = AutoModelForSeq2SeqLM.from_pretrained(\"narySt/codeT5p_CommitMessageGen\", device_map='auto')"
   ]
  },
  {
   "cell_type": "code",
   "execution_count": 5,
   "id": "0336ad20-ed10-44ea-9e9d-19a573e714a8",
   "metadata": {},
   "outputs": [],
   "source": [
    "import datasets \n",
    "data = datasets.load_dataset('csv', data_files=['commits_cleaned_v5.csv'])"
   ]
  },
  {
   "cell_type": "code",
   "execution_count": 6,
   "id": "5a062ced-292d-42af-9c6f-8d311a95d5ad",
   "metadata": {},
   "outputs": [],
   "source": [
    "import evaluate"
   ]
  },
  {
   "cell_type": "code",
   "execution_count": 7,
   "id": "d413ca96-0552-4b71-8e5f-9e365a86f4a8",
   "metadata": {},
   "outputs": [],
   "source": [
    "bertscore = evaluate.load(\"bertscore\")\n",
    "bleu = evaluate.load('sacrebleu')"
   ]
  },
  {
   "cell_type": "code",
   "execution_count": 8,
   "id": "b77ae3a1-4010-4524-9dc1-6b6edef59615",
   "metadata": {},
   "outputs": [],
   "source": [
    "data = data.remove_columns(['Unnamed: 0', \"repo_name\", \"hash\", 'files_changed', \"changes_len\"])"
   ]
  },
  {
   "cell_type": "code",
   "execution_count": 9,
   "id": "6560ec6c-c1de-4f44-baa1-d9671c754e65",
   "metadata": {},
   "outputs": [],
   "source": [
    "data = data['train']"
   ]
  },
  {
   "cell_type": "code",
   "execution_count": 10,
   "id": "8cdc7b70-a886-40ec-bac1-bad0ef47f711",
   "metadata": {},
   "outputs": [],
   "source": [
    "def tokenize(sample):\n",
    "    # sample['labels'] = tokenizer(sample['commit_message'], padding='max_length', truncation=True)['input_ids']\n",
    "    res = tokenizer(sample['commit_changes'], padding='max_length', truncation=True)\n",
    "    sample['input_ids'] = res['input_ids']\n",
    "    sample['attention_mask'] = res['attention_mask']\n",
    "    return sample\n",
    "\n",
    "data = data.map(tokenize, num_proc=8)"
   ]
  },
  {
   "cell_type": "code",
   "execution_count": 11,
   "id": "28e456bd-f7dc-4efa-9c1e-7287c12ded67",
   "metadata": {},
   "outputs": [],
   "source": [
    "data.set_format('torch')"
   ]
  },
  {
   "cell_type": "code",
   "execution_count": 12,
   "id": "eeee50df-2c9f-48b7-bd18-8c3b7d85efba",
   "metadata": {},
   "outputs": [],
   "source": [
    "data = data.remove_columns([\"commit_changes\"])"
   ]
  },
  {
   "cell_type": "code",
   "execution_count": 13,
   "id": "025928de-7f2e-4dcf-9e28-10258a92dc13",
   "metadata": {},
   "outputs": [],
   "source": [
    "from torch.utils.data import DataLoader\n",
    "\n",
    "batch_size = 32\n",
    "dataloader = DataLoader(data, batch_size=batch_size)"
   ]
  },
  {
   "cell_type": "code",
   "execution_count": 14,
   "id": "cc9a3f29-8779-4914-91a2-07d780058a59",
   "metadata": {},
   "outputs": [],
   "source": [
    "import transformers\n",
    "generation_conf = transformers.GenerationConfig(\n",
    "    max_new_tokens=512,\n",
    "    top_k=50,\n",
    "    num_beams=5,\n",
    "    no_repeat_ngram_size=2,\n",
    "    do_sample=True,\n",
    "    early_stopping=True,\n",
    "    top_p=0.95,\n",
    ")"
   ]
  },
  {
   "cell_type": "code",
   "execution_count": 15,
   "id": "33fd2824-52e9-404e-9be9-27ae50c53ffe",
   "metadata": {},
   "outputs": [
    {
     "name": "stderr",
     "output_type": "stream",
     "text": [
      "/tmp/ipykernel_309173/1965626508.py:8: FutureWarning: Metric is deprecated and will be removed in the next major version of datasets. Use the new library 🤗 Evaluate instead: https://huggingface.co/docs/evaluate\n",
      "  bnorm = BLEUNorm()\n"
     ]
    }
   ],
   "source": [
    "import sys\n",
    "\n",
    "DIR_PREFIX = \"/home/user/commits/commit_messages_generation/\"\n",
    "\n",
    "sys.path.insert(0, DIR_PREFIX)\n",
    "from metrics.bnorm.bleu_norm import BLEUNorm\n",
    "\n",
    "bnorm = BLEUNorm()"
   ]
  },
  {
   "cell_type": "code",
   "execution_count": 16,
   "id": "052705b6-8922-4c6a-8082-13b4efa1801f",
   "metadata": {},
   "outputs": [
    {
     "data": {
      "application/vnd.jupyter.widget-view+json": {
       "model_id": "bdfb5b0d158746ae92ac9682520cf456",
       "version_major": 2,
       "version_minor": 0
      },
      "text/plain": [
       "  0%|          | 0/4643 [00:00<?, ?it/s]"
      ]
     },
     "metadata": {},
     "output_type": "display_data"
    },
    {
     "name": "stderr",
     "output_type": "stream",
     "text": [
      "Some weights of RobertaModel were not initialized from the model checkpoint at roberta-large and are newly initialized: ['roberta.pooler.dense.bias', 'roberta.pooler.dense.weight']\n",
      "You should probably TRAIN this model on a down-stream task to be able to use it for predictions and inference.\n"
     ]
    }
   ],
   "source": [
    "from tqdm.notebook import tqdm\n",
    "bertscores = []\n",
    "bleus = []\n",
    "\n",
    "for batch in tqdm(dataloader):\n",
    "    input_ids = batch['input_ids']\n",
    "    attn = batch['attention_mask']\n",
    "    labels = batch['commit_message']\n",
    "    \n",
    "    input_ids = input_ids.to(device)\n",
    "    attn = attn.to(device)\n",
    "    input_ = {\"input_ids\" : input_ids, \"attention_mask\" : attn}\n",
    "    \n",
    "    gen_res = model.generate(**input_, generation_config=generation_conf)\n",
    "    gen_text = tokenizer.batch_decode(gen_res, skip_special_tokens=True)\n",
    "    bert_metrics = bertscore.compute(\n",
    "        predictions=gen_text, references=labels, lang=\"en\", device=device, batch_size=batch_size\n",
    "    )['f1']\n",
    "    bleu_metrics = bnorm.compute(predictions=gen_text, references=labels)[\n",
    "        \"b_norm\"\n",
    "    ]\n",
    "    bertscores.append(bert_metrics)\n",
    "    bleus.append(bleu_metrics)\n",
    "\n",
    "    torch.cuda.empty_cache()"
   ]
  },
  {
   "cell_type": "code",
   "execution_count": null,
   "id": "38881760-96f2-4de8-a294-79614db999cc",
   "metadata": {},
   "outputs": [],
   "source": [
    "import numpy as np"
   ]
  },
  {
   "cell_type": "code",
   "execution_count": 25,
   "id": "141937c5-0a65-415e-8320-bc17fd6b64fd",
   "metadata": {},
   "outputs": [],
   "source": [
    "bertscores = bertscores[:-1]"
   ]
  },
  {
   "cell_type": "code",
   "execution_count": 29,
   "id": "a0734d9a-c589-43ad-b58c-d6eb6b21fa03",
   "metadata": {},
   "outputs": [],
   "source": [
    "bertscores_np = np.array(bertscores)"
   ]
  },
  {
   "cell_type": "code",
   "execution_count": 35,
   "id": "49ba8070-0d8d-4d63-88d7-758d309817a0",
   "metadata": {},
   "outputs": [
    {
     "data": {
      "text/plain": [
       "(148544,)"
      ]
     },
     "execution_count": 35,
     "metadata": {},
     "output_type": "execute_result"
    }
   ],
   "source": [
    "bertscores_np = np.reshape(bertscores_np, -1)\n",
    "bertscores_np.shape"
   ]
  },
  {
   "cell_type": "code",
   "execution_count": 43,
   "id": "c1ac06b1-6dd4-4079-bf73-2c708cddbe83",
   "metadata": {},
   "outputs": [
    {
     "data": {
      "image/png": "[encoded data removed]",
      "text/plain": [
       "<Figure size 1500x1000 with 1 Axes>"
      ]
     },
     "metadata": {},
     "output_type": "display_data"
    }
   ],
   "source": [
    "import matplotlib.pyplot as plt\n",
    "plt.figure(figsize=(15,10))\n",
    "plt.hist(bertscores_np,bins=100)\n",
    "plt.title(\"Results on the custom dataset\")\n",
    "plt.xlabel('BERTScore')\n",
    "plt.ylabel(\"Num of samples\")\n",
    "plt.savefig(\"eval_res_custom.png\")"
   ]
  },
  {
   "cell_type": "code",
   "execution_count": 38,
   "id": "48f42192-e9c7-4b2d-aa14-ff671fe9d082",
   "metadata": {},
   "outputs": [],
   "source": [
    "np.save('bert_results.npy', bertscores)"
   ]
  }
 ],
 "metadata": {
  "kernelspec": {
   "display_name": "commit-generation",
   "language": "python",
   "name": "commit-generation"
  },
  "language_info": {
   "codemirror_mode": {
    "name": "ipython",
    "version": 3
   },
   "file_extension": ".py",
   "mimetype": "text/x-python",
   "name": "python",
   "nbconvert_exporter": "python",
   "pygments_lexer": "ipython3",
   "version": "3.11.6"
  }
 },
 "nbformat": 4,
 "nbformat_minor": 5
}
